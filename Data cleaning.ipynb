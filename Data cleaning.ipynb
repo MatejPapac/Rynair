{
 "cells": [
  {
   "cell_type": "code",
   "execution_count": 118,
   "metadata": {},
   "outputs": [],
   "source": [
    "import pandas as pd"
   ]
  },
  {
   "cell_type": "code",
   "execution_count": 119,
   "metadata": {},
   "outputs": [],
   "source": [
    "ryanair=pd.read_csv(r\"C:\\Users\\matas\\Desktop\\Programi ML\\Ryanair\\ryanair_reviews.csv\")"
   ]
  },
  {
   "cell_type": "code",
   "execution_count": 120,
   "metadata": {},
   "outputs": [
    {
     "data": {
      "text/html": [
       "<div>\n",
       "<style scoped>\n",
       "    .dataframe tbody tr th:only-of-type {\n",
       "        vertical-align: middle;\n",
       "    }\n",
       "\n",
       "    .dataframe tbody tr th {\n",
       "        vertical-align: top;\n",
       "    }\n",
       "\n",
       "    .dataframe thead th {\n",
       "        text-align: right;\n",
       "    }\n",
       "</style>\n",
       "<table border=\"1\" class=\"dataframe\">\n",
       "  <thead>\n",
       "    <tr style=\"text-align: right;\">\n",
       "      <th></th>\n",
       "      <th>Unnamed: 0</th>\n",
       "      <th>Date Published</th>\n",
       "      <th>Overall Rating</th>\n",
       "      <th>Passenger Country</th>\n",
       "      <th>Trip_verified</th>\n",
       "      <th>Comment title</th>\n",
       "      <th>Comment</th>\n",
       "      <th>Aircraft</th>\n",
       "      <th>Type Of Traveller</th>\n",
       "      <th>Seat Type</th>\n",
       "      <th>...</th>\n",
       "      <th>Destination</th>\n",
       "      <th>Date Flown</th>\n",
       "      <th>Seat Comfort</th>\n",
       "      <th>Cabin Staff Service</th>\n",
       "      <th>Food &amp; Beverages</th>\n",
       "      <th>Ground Service</th>\n",
       "      <th>Value For Money</th>\n",
       "      <th>Recommended</th>\n",
       "      <th>Inflight Entertainment</th>\n",
       "      <th>Wifi &amp; Connectivity</th>\n",
       "    </tr>\n",
       "  </thead>\n",
       "  <tbody>\n",
       "    <tr>\n",
       "      <th>0</th>\n",
       "      <td>0</td>\n",
       "      <td>2024-02-03</td>\n",
       "      <td>10.0</td>\n",
       "      <td>United Kingdom</td>\n",
       "      <td>Not Verified</td>\n",
       "      <td>\"bang on time and smooth flights\"</td>\n",
       "      <td>Flew back from Faro to London Luton Friday 2nd...</td>\n",
       "      <td>Boeing 737 900</td>\n",
       "      <td>Family Leisure</td>\n",
       "      <td>Economy Class</td>\n",
       "      <td>...</td>\n",
       "      <td>Luton</td>\n",
       "      <td>February 2024</td>\n",
       "      <td>4.0</td>\n",
       "      <td>5.0</td>\n",
       "      <td>3.0</td>\n",
       "      <td>4.0</td>\n",
       "      <td>4.0</td>\n",
       "      <td>yes</td>\n",
       "      <td>NaN</td>\n",
       "      <td>NaN</td>\n",
       "    </tr>\n",
       "    <tr>\n",
       "      <th>1</th>\n",
       "      <td>1</td>\n",
       "      <td>2024-01-26</td>\n",
       "      <td>10.0</td>\n",
       "      <td>United Kingdom</td>\n",
       "      <td>Trip Verified</td>\n",
       "      <td>\"Another good affordable flight\"</td>\n",
       "      <td>Another good affordable flight with Ryanair. O...</td>\n",
       "      <td>NaN</td>\n",
       "      <td>Couple Leisure</td>\n",
       "      <td>Economy Class</td>\n",
       "      <td>...</td>\n",
       "      <td>Alicante</td>\n",
       "      <td>January 2024</td>\n",
       "      <td>3.0</td>\n",
       "      <td>5.0</td>\n",
       "      <td>3.0</td>\n",
       "      <td>5.0</td>\n",
       "      <td>5.0</td>\n",
       "      <td>yes</td>\n",
       "      <td>NaN</td>\n",
       "      <td>NaN</td>\n",
       "    </tr>\n",
       "    <tr>\n",
       "      <th>2</th>\n",
       "      <td>2</td>\n",
       "      <td>2024-01-20</td>\n",
       "      <td>10.0</td>\n",
       "      <td>United Kingdom</td>\n",
       "      <td>Trip Verified</td>\n",
       "      <td>“Really impressed!”</td>\n",
       "      <td>Really impressed! You get what you pay for, th...</td>\n",
       "      <td>Boeing 737-800</td>\n",
       "      <td>Couple Leisure</td>\n",
       "      <td>Economy Class</td>\n",
       "      <td>...</td>\n",
       "      <td>Paris Beauvais</td>\n",
       "      <td>October 2023</td>\n",
       "      <td>5.0</td>\n",
       "      <td>5.0</td>\n",
       "      <td>4.0</td>\n",
       "      <td>5.0</td>\n",
       "      <td>5.0</td>\n",
       "      <td>yes</td>\n",
       "      <td>NaN</td>\n",
       "      <td>NaN</td>\n",
       "    </tr>\n",
       "    <tr>\n",
       "      <th>3</th>\n",
       "      <td>3</td>\n",
       "      <td>2024-01-07</td>\n",
       "      <td>6.0</td>\n",
       "      <td>United Kingdom</td>\n",
       "      <td>Trip Verified</td>\n",
       "      <td>“a decent offering from Ryanair”</td>\n",
       "      <td>I should like to review my flight from Faro to...</td>\n",
       "      <td>Boeing 737</td>\n",
       "      <td>Solo Leisure</td>\n",
       "      <td>Economy Class</td>\n",
       "      <td>...</td>\n",
       "      <td>Liverpool</td>\n",
       "      <td>January 2024</td>\n",
       "      <td>3.0</td>\n",
       "      <td>2.0</td>\n",
       "      <td>1.0</td>\n",
       "      <td>3.0</td>\n",
       "      <td>3.0</td>\n",
       "      <td>yes</td>\n",
       "      <td>NaN</td>\n",
       "      <td>NaN</td>\n",
       "    </tr>\n",
       "    <tr>\n",
       "      <th>4</th>\n",
       "      <td>4</td>\n",
       "      <td>2024-01-06</td>\n",
       "      <td>10.0</td>\n",
       "      <td>Israel</td>\n",
       "      <td>Trip Verified</td>\n",
       "      <td>“cabin crew were welcoming and friendly”</td>\n",
       "      <td>Flight left the gate ahead of schedule, fare w...</td>\n",
       "      <td>Boeing 737-800</td>\n",
       "      <td>Solo Leisure</td>\n",
       "      <td>Economy Class</td>\n",
       "      <td>...</td>\n",
       "      <td>Manchester</td>\n",
       "      <td>January 2024</td>\n",
       "      <td>4.0</td>\n",
       "      <td>5.0</td>\n",
       "      <td>NaN</td>\n",
       "      <td>4.0</td>\n",
       "      <td>5.0</td>\n",
       "      <td>yes</td>\n",
       "      <td>NaN</td>\n",
       "      <td>NaN</td>\n",
       "    </tr>\n",
       "  </tbody>\n",
       "</table>\n",
       "<p>5 rows × 21 columns</p>\n",
       "</div>"
      ],
      "text/plain": [
       "   Unnamed: 0 Date Published  Overall Rating Passenger Country  Trip_verified  \\\n",
       "0           0     2024-02-03            10.0    United Kingdom   Not Verified   \n",
       "1           1     2024-01-26            10.0    United Kingdom  Trip Verified   \n",
       "2           2     2024-01-20            10.0    United Kingdom  Trip Verified   \n",
       "3           3     2024-01-07             6.0    United Kingdom  Trip Verified   \n",
       "4           4     2024-01-06            10.0            Israel  Trip Verified   \n",
       "\n",
       "                              Comment title  \\\n",
       "0         \"bang on time and smooth flights\"   \n",
       "1          \"Another good affordable flight\"   \n",
       "2                       “Really impressed!”   \n",
       "3          “a decent offering from Ryanair”   \n",
       "4  “cabin crew were welcoming and friendly”   \n",
       "\n",
       "                                             Comment        Aircraft  \\\n",
       "0  Flew back from Faro to London Luton Friday 2nd...  Boeing 737 900   \n",
       "1  Another good affordable flight with Ryanair. O...             NaN   \n",
       "2  Really impressed! You get what you pay for, th...  Boeing 737-800   \n",
       "3  I should like to review my flight from Faro to...      Boeing 737   \n",
       "4  Flight left the gate ahead of schedule, fare w...  Boeing 737-800   \n",
       "\n",
       "  Type Of Traveller      Seat Type  ...     Destination     Date Flown  \\\n",
       "0    Family Leisure  Economy Class  ...           Luton  February 2024   \n",
       "1    Couple Leisure  Economy Class  ...        Alicante   January 2024   \n",
       "2    Couple Leisure  Economy Class  ...  Paris Beauvais   October 2023   \n",
       "3      Solo Leisure  Economy Class  ...       Liverpool   January 2024   \n",
       "4      Solo Leisure  Economy Class  ...      Manchester   January 2024   \n",
       "\n",
       "  Seat Comfort  Cabin Staff Service  Food & Beverages  Ground Service  \\\n",
       "0          4.0                  5.0               3.0             4.0   \n",
       "1          3.0                  5.0               3.0             5.0   \n",
       "2          5.0                  5.0               4.0             5.0   \n",
       "3          3.0                  2.0               1.0             3.0   \n",
       "4          4.0                  5.0               NaN             4.0   \n",
       "\n",
       "   Value For Money  Recommended Inflight Entertainment  Wifi & Connectivity  \n",
       "0              4.0          yes                    NaN                  NaN  \n",
       "1              5.0          yes                    NaN                  NaN  \n",
       "2              5.0          yes                    NaN                  NaN  \n",
       "3              3.0          yes                    NaN                  NaN  \n",
       "4              5.0          yes                    NaN                  NaN  \n",
       "\n",
       "[5 rows x 21 columns]"
      ]
     },
     "execution_count": 120,
     "metadata": {},
     "output_type": "execute_result"
    }
   ],
   "source": [
    "ryanair.head()"
   ]
  },
  {
   "cell_type": "code",
   "execution_count": null,
   "metadata": {},
   "outputs": [],
   "source": []
  },
  {
   "cell_type": "code",
   "execution_count": 121,
   "metadata": {},
   "outputs": [
    {
     "name": "stdout",
     "output_type": "stream",
     "text": [
      "<class 'pandas.core.frame.DataFrame'>\n",
      "RangeIndex: 2249 entries, 0 to 2248\n",
      "Data columns (total 21 columns):\n",
      " #   Column                  Non-Null Count  Dtype  \n",
      "---  ------                  --------------  -----  \n",
      " 0   Unnamed: 0              2249 non-null   int64  \n",
      " 1   Date Published          2249 non-null   object \n",
      " 2   Overall Rating          2119 non-null   float64\n",
      " 3   Passenger Country       2249 non-null   object \n",
      " 4   Trip_verified           1305 non-null   object \n",
      " 5   Comment title           2249 non-null   object \n",
      " 6   Comment                 2249 non-null   object \n",
      " 7   Aircraft                551 non-null    object \n",
      " 8   Type Of Traveller       1635 non-null   object \n",
      " 9   Seat Type               2249 non-null   object \n",
      " 10  Origin                  1634 non-null   object \n",
      " 11  Destination             1634 non-null   object \n",
      " 12  Date Flown              1631 non-null   object \n",
      " 13  Seat Comfort            2137 non-null   float64\n",
      " 14  Cabin Staff Service     2128 non-null   float64\n",
      " 15  Food & Beverages        1312 non-null   float64\n",
      " 16  Ground Service          1578 non-null   float64\n",
      " 17  Value For Money         2248 non-null   float64\n",
      " 18  Recommended             2249 non-null   object \n",
      " 19  Inflight Entertainment  331 non-null    float64\n",
      " 20  Wifi & Connectivity     268 non-null    float64\n",
      "dtypes: float64(8), int64(1), object(12)\n",
      "memory usage: 369.1+ KB\n"
     ]
    }
   ],
   "source": [
    "ryanair.info()"
   ]
  },
  {
   "cell_type": "code",
   "execution_count": null,
   "metadata": {},
   "outputs": [],
   "source": []
  },
  {
   "cell_type": "markdown",
   "metadata": {},
   "source": [
    "Data Cleaning\n"
   ]
  },
  {
   "cell_type": "code",
   "execution_count": 122,
   "metadata": {},
   "outputs": [],
   "source": [
    "#Remove the 'Unnamed: 0' column\n",
    "ryanair_cleaned=ryanair.drop(columns=['Unnamed: 0'])"
   ]
  },
  {
   "cell_type": "code",
   "execution_count": null,
   "metadata": {},
   "outputs": [],
   "source": [
    "\n"
   ]
  },
  {
   "cell_type": "code",
   "execution_count": 123,
   "metadata": {},
   "outputs": [
    {
     "name": "stderr",
     "output_type": "stream",
     "text": [
      "C:\\Users\\matas\\AppData\\Local\\Temp\\ipykernel_9412\\1410541535.py:4: UserWarning: Could not infer format, so each element will be parsed individually, falling back to `dateutil`. To ensure parsing is consistent and as-expected, please specify a format.\n",
      "  ryanair_cleaned['Date Flown']=pd.to_datetime(ryanair_cleaned['Date Flown'])\n"
     ]
    }
   ],
   "source": [
    "#Convert 'Date published' to datetime\n",
    "ryanair_cleaned['Date Published']=pd.to_datetime(ryanair_cleaned['Date Published'])\n",
    "## Convert 'Date Flown' to datetime, coerce any errors which will convert them to NaT (not a time)\n",
    "ryanair_cleaned['Date Flown']=pd.to_datetime(ryanair_cleaned['Date Flown'])"
   ]
  },
  {
   "cell_type": "code",
   "execution_count": 124,
   "metadata": {},
   "outputs": [
    {
     "name": "stdout",
     "output_type": "stream",
     "text": [
      "<class 'pandas.core.frame.DataFrame'>\n",
      "RangeIndex: 2249 entries, 0 to 2248\n",
      "Data columns (total 20 columns):\n",
      " #   Column                  Non-Null Count  Dtype         \n",
      "---  ------                  --------------  -----         \n",
      " 0   Date Published          2249 non-null   datetime64[ns]\n",
      " 1   Overall Rating          2119 non-null   float64       \n",
      " 2   Passenger Country       2249 non-null   object        \n",
      " 3   Trip_verified           1305 non-null   object        \n",
      " 4   Comment title           2249 non-null   object        \n",
      " 5   Comment                 2249 non-null   object        \n",
      " 6   Aircraft                551 non-null    object        \n",
      " 7   Type Of Traveller       1635 non-null   object        \n",
      " 8   Seat Type               2249 non-null   object        \n",
      " 9   Origin                  1634 non-null   object        \n",
      " 10  Destination             1634 non-null   object        \n",
      " 11  Date Flown              1631 non-null   datetime64[ns]\n",
      " 12  Seat Comfort            2137 non-null   float64       \n",
      " 13  Cabin Staff Service     2128 non-null   float64       \n",
      " 14  Food & Beverages        1312 non-null   float64       \n",
      " 15  Ground Service          1578 non-null   float64       \n",
      " 16  Value For Money         2248 non-null   float64       \n",
      " 17  Recommended             2249 non-null   object        \n",
      " 18  Inflight Entertainment  331 non-null    float64       \n",
      " 19  Wifi & Connectivity     268 non-null    float64       \n",
      "dtypes: datetime64[ns](2), float64(8), object(10)\n",
      "memory usage: 351.5+ KB\n"
     ]
    }
   ],
   "source": [
    "ryanair_cleaned.info()"
   ]
  },
  {
   "cell_type": "code",
   "execution_count": 125,
   "metadata": {},
   "outputs": [
    {
     "data": {
      "text/html": [
       "<div>\n",
       "<style scoped>\n",
       "    .dataframe tbody tr th:only-of-type {\n",
       "        vertical-align: middle;\n",
       "    }\n",
       "\n",
       "    .dataframe tbody tr th {\n",
       "        vertical-align: top;\n",
       "    }\n",
       "\n",
       "    .dataframe thead th {\n",
       "        text-align: right;\n",
       "    }\n",
       "</style>\n",
       "<table border=\"1\" class=\"dataframe\">\n",
       "  <thead>\n",
       "    <tr style=\"text-align: right;\">\n",
       "      <th></th>\n",
       "      <th>Date Published</th>\n",
       "      <th>Overall Rating</th>\n",
       "      <th>Passenger Country</th>\n",
       "      <th>Trip_verified</th>\n",
       "      <th>Comment title</th>\n",
       "      <th>Comment</th>\n",
       "      <th>Aircraft</th>\n",
       "      <th>Type Of Traveller</th>\n",
       "      <th>Seat Type</th>\n",
       "      <th>Origin</th>\n",
       "      <th>Destination</th>\n",
       "      <th>Date Flown</th>\n",
       "      <th>Seat Comfort</th>\n",
       "      <th>Cabin Staff Service</th>\n",
       "      <th>Food &amp; Beverages</th>\n",
       "      <th>Ground Service</th>\n",
       "      <th>Value For Money</th>\n",
       "      <th>Recommended</th>\n",
       "      <th>Inflight Entertainment</th>\n",
       "      <th>Wifi &amp; Connectivity</th>\n",
       "    </tr>\n",
       "  </thead>\n",
       "  <tbody>\n",
       "    <tr>\n",
       "      <th>0</th>\n",
       "      <td>2024-02-03</td>\n",
       "      <td>10.0</td>\n",
       "      <td>United Kingdom</td>\n",
       "      <td>Not Verified</td>\n",
       "      <td>\"bang on time and smooth flights\"</td>\n",
       "      <td>Flew back from Faro to London Luton Friday 2nd...</td>\n",
       "      <td>Boeing 737 900</td>\n",
       "      <td>Family Leisure</td>\n",
       "      <td>Economy Class</td>\n",
       "      <td>Faro</td>\n",
       "      <td>Luton</td>\n",
       "      <td>2024-02-01</td>\n",
       "      <td>4.0</td>\n",
       "      <td>5.0</td>\n",
       "      <td>3.0</td>\n",
       "      <td>4.0</td>\n",
       "      <td>4.0</td>\n",
       "      <td>yes</td>\n",
       "      <td>NaN</td>\n",
       "      <td>NaN</td>\n",
       "    </tr>\n",
       "    <tr>\n",
       "      <th>1</th>\n",
       "      <td>2024-01-26</td>\n",
       "      <td>10.0</td>\n",
       "      <td>United Kingdom</td>\n",
       "      <td>Trip Verified</td>\n",
       "      <td>\"Another good affordable flight\"</td>\n",
       "      <td>Another good affordable flight with Ryanair. O...</td>\n",
       "      <td>NaN</td>\n",
       "      <td>Couple Leisure</td>\n",
       "      <td>Economy Class</td>\n",
       "      <td>Belfast</td>\n",
       "      <td>Alicante</td>\n",
       "      <td>2024-01-01</td>\n",
       "      <td>3.0</td>\n",
       "      <td>5.0</td>\n",
       "      <td>3.0</td>\n",
       "      <td>5.0</td>\n",
       "      <td>5.0</td>\n",
       "      <td>yes</td>\n",
       "      <td>NaN</td>\n",
       "      <td>NaN</td>\n",
       "    </tr>\n",
       "    <tr>\n",
       "      <th>2</th>\n",
       "      <td>2024-01-20</td>\n",
       "      <td>10.0</td>\n",
       "      <td>United Kingdom</td>\n",
       "      <td>Trip Verified</td>\n",
       "      <td>“Really impressed!”</td>\n",
       "      <td>Really impressed! You get what you pay for, th...</td>\n",
       "      <td>Boeing 737-800</td>\n",
       "      <td>Couple Leisure</td>\n",
       "      <td>Economy Class</td>\n",
       "      <td>Edinburgh</td>\n",
       "      <td>Paris Beauvais</td>\n",
       "      <td>2023-10-01</td>\n",
       "      <td>5.0</td>\n",
       "      <td>5.0</td>\n",
       "      <td>4.0</td>\n",
       "      <td>5.0</td>\n",
       "      <td>5.0</td>\n",
       "      <td>yes</td>\n",
       "      <td>NaN</td>\n",
       "      <td>NaN</td>\n",
       "    </tr>\n",
       "    <tr>\n",
       "      <th>3</th>\n",
       "      <td>2024-01-07</td>\n",
       "      <td>6.0</td>\n",
       "      <td>United Kingdom</td>\n",
       "      <td>Trip Verified</td>\n",
       "      <td>“a decent offering from Ryanair”</td>\n",
       "      <td>I should like to review my flight from Faro to...</td>\n",
       "      <td>Boeing 737</td>\n",
       "      <td>Solo Leisure</td>\n",
       "      <td>Economy Class</td>\n",
       "      <td>Faro</td>\n",
       "      <td>Liverpool</td>\n",
       "      <td>2024-01-01</td>\n",
       "      <td>3.0</td>\n",
       "      <td>2.0</td>\n",
       "      <td>1.0</td>\n",
       "      <td>3.0</td>\n",
       "      <td>3.0</td>\n",
       "      <td>yes</td>\n",
       "      <td>NaN</td>\n",
       "      <td>NaN</td>\n",
       "    </tr>\n",
       "    <tr>\n",
       "      <th>4</th>\n",
       "      <td>2024-01-06</td>\n",
       "      <td>10.0</td>\n",
       "      <td>Israel</td>\n",
       "      <td>Trip Verified</td>\n",
       "      <td>“cabin crew were welcoming and friendly”</td>\n",
       "      <td>Flight left the gate ahead of schedule, fare w...</td>\n",
       "      <td>Boeing 737-800</td>\n",
       "      <td>Solo Leisure</td>\n",
       "      <td>Economy Class</td>\n",
       "      <td>Dublin</td>\n",
       "      <td>Manchester</td>\n",
       "      <td>2024-01-01</td>\n",
       "      <td>4.0</td>\n",
       "      <td>5.0</td>\n",
       "      <td>NaN</td>\n",
       "      <td>4.0</td>\n",
       "      <td>5.0</td>\n",
       "      <td>yes</td>\n",
       "      <td>NaN</td>\n",
       "      <td>NaN</td>\n",
       "    </tr>\n",
       "  </tbody>\n",
       "</table>\n",
       "</div>"
      ],
      "text/plain": [
       "  Date Published  Overall Rating Passenger Country  Trip_verified  \\\n",
       "0     2024-02-03            10.0    United Kingdom   Not Verified   \n",
       "1     2024-01-26            10.0    United Kingdom  Trip Verified   \n",
       "2     2024-01-20            10.0    United Kingdom  Trip Verified   \n",
       "3     2024-01-07             6.0    United Kingdom  Trip Verified   \n",
       "4     2024-01-06            10.0            Israel  Trip Verified   \n",
       "\n",
       "                              Comment title  \\\n",
       "0         \"bang on time and smooth flights\"   \n",
       "1          \"Another good affordable flight\"   \n",
       "2                       “Really impressed!”   \n",
       "3          “a decent offering from Ryanair”   \n",
       "4  “cabin crew were welcoming and friendly”   \n",
       "\n",
       "                                             Comment        Aircraft  \\\n",
       "0  Flew back from Faro to London Luton Friday 2nd...  Boeing 737 900   \n",
       "1  Another good affordable flight with Ryanair. O...             NaN   \n",
       "2  Really impressed! You get what you pay for, th...  Boeing 737-800   \n",
       "3  I should like to review my flight from Faro to...      Boeing 737   \n",
       "4  Flight left the gate ahead of schedule, fare w...  Boeing 737-800   \n",
       "\n",
       "  Type Of Traveller      Seat Type     Origin     Destination Date Flown  \\\n",
       "0    Family Leisure  Economy Class       Faro           Luton 2024-02-01   \n",
       "1    Couple Leisure  Economy Class    Belfast        Alicante 2024-01-01   \n",
       "2    Couple Leisure  Economy Class  Edinburgh  Paris Beauvais 2023-10-01   \n",
       "3      Solo Leisure  Economy Class       Faro       Liverpool 2024-01-01   \n",
       "4      Solo Leisure  Economy Class     Dublin      Manchester 2024-01-01   \n",
       "\n",
       "   Seat Comfort  Cabin Staff Service  Food & Beverages  Ground Service  \\\n",
       "0           4.0                  5.0               3.0             4.0   \n",
       "1           3.0                  5.0               3.0             5.0   \n",
       "2           5.0                  5.0               4.0             5.0   \n",
       "3           3.0                  2.0               1.0             3.0   \n",
       "4           4.0                  5.0               NaN             4.0   \n",
       "\n",
       "   Value For Money Recommended  Inflight Entertainment  Wifi & Connectivity  \n",
       "0              4.0         yes                     NaN                  NaN  \n",
       "1              5.0         yes                     NaN                  NaN  \n",
       "2              5.0         yes                     NaN                  NaN  \n",
       "3              3.0         yes                     NaN                  NaN  \n",
       "4              5.0         yes                     NaN                  NaN  "
      ]
     },
     "execution_count": 125,
     "metadata": {},
     "output_type": "execute_result"
    }
   ],
   "source": [
    "ryanair_cleaned.head()"
   ]
  },
  {
   "cell_type": "markdown",
   "metadata": {},
   "source": []
  },
  {
   "cell_type": "code",
   "execution_count": 126,
   "metadata": {},
   "outputs": [],
   "source": [
    "#We will drop this columns since they dont offer this products\n",
    "ryanair_cleaned=ryanair.drop(columns=['Unnamed: 0','Inflight Entertainment','Wifi & Connectivity'])"
   ]
  },
  {
   "cell_type": "code",
   "execution_count": 127,
   "metadata": {},
   "outputs": [],
   "source": [
    "ryanair_cleaned=ryanair.drop(columns=['Unnamed: 0','Inflight Entertainment','Wifi & Connectivity'])\n",
    "\n",
    "\n"
   ]
  },
  {
   "cell_type": "code",
   "execution_count": 128,
   "metadata": {},
   "outputs": [
    {
     "data": {
      "text/html": [
       "<div>\n",
       "<style scoped>\n",
       "    .dataframe tbody tr th:only-of-type {\n",
       "        vertical-align: middle;\n",
       "    }\n",
       "\n",
       "    .dataframe tbody tr th {\n",
       "        vertical-align: top;\n",
       "    }\n",
       "\n",
       "    .dataframe thead th {\n",
       "        text-align: right;\n",
       "    }\n",
       "</style>\n",
       "<table border=\"1\" class=\"dataframe\">\n",
       "  <thead>\n",
       "    <tr style=\"text-align: right;\">\n",
       "      <th></th>\n",
       "      <th>Date Published</th>\n",
       "      <th>Overall Rating</th>\n",
       "      <th>Passenger Country</th>\n",
       "      <th>Trip_verified</th>\n",
       "      <th>Comment title</th>\n",
       "      <th>Comment</th>\n",
       "      <th>Aircraft</th>\n",
       "      <th>Type Of Traveller</th>\n",
       "      <th>Seat Type</th>\n",
       "      <th>Origin</th>\n",
       "      <th>Destination</th>\n",
       "      <th>Date Flown</th>\n",
       "      <th>Seat Comfort</th>\n",
       "      <th>Cabin Staff Service</th>\n",
       "      <th>Food &amp; Beverages</th>\n",
       "      <th>Ground Service</th>\n",
       "      <th>Value For Money</th>\n",
       "      <th>Recommended</th>\n",
       "    </tr>\n",
       "  </thead>\n",
       "  <tbody>\n",
       "    <tr>\n",
       "      <th>0</th>\n",
       "      <td>2024-02-03</td>\n",
       "      <td>10.0</td>\n",
       "      <td>United Kingdom</td>\n",
       "      <td>Not Verified</td>\n",
       "      <td>\"bang on time and smooth flights\"</td>\n",
       "      <td>Flew back from Faro to London Luton Friday 2nd...</td>\n",
       "      <td>Boeing 737 900</td>\n",
       "      <td>Family Leisure</td>\n",
       "      <td>Economy Class</td>\n",
       "      <td>Faro</td>\n",
       "      <td>Luton</td>\n",
       "      <td>February 2024</td>\n",
       "      <td>4.0</td>\n",
       "      <td>5.0</td>\n",
       "      <td>3.0</td>\n",
       "      <td>4.0</td>\n",
       "      <td>4.0</td>\n",
       "      <td>yes</td>\n",
       "    </tr>\n",
       "    <tr>\n",
       "      <th>1</th>\n",
       "      <td>2024-01-26</td>\n",
       "      <td>10.0</td>\n",
       "      <td>United Kingdom</td>\n",
       "      <td>Trip Verified</td>\n",
       "      <td>\"Another good affordable flight\"</td>\n",
       "      <td>Another good affordable flight with Ryanair. O...</td>\n",
       "      <td>NaN</td>\n",
       "      <td>Couple Leisure</td>\n",
       "      <td>Economy Class</td>\n",
       "      <td>Belfast</td>\n",
       "      <td>Alicante</td>\n",
       "      <td>January 2024</td>\n",
       "      <td>3.0</td>\n",
       "      <td>5.0</td>\n",
       "      <td>3.0</td>\n",
       "      <td>5.0</td>\n",
       "      <td>5.0</td>\n",
       "      <td>yes</td>\n",
       "    </tr>\n",
       "    <tr>\n",
       "      <th>2</th>\n",
       "      <td>2024-01-20</td>\n",
       "      <td>10.0</td>\n",
       "      <td>United Kingdom</td>\n",
       "      <td>Trip Verified</td>\n",
       "      <td>“Really impressed!”</td>\n",
       "      <td>Really impressed! You get what you pay for, th...</td>\n",
       "      <td>Boeing 737-800</td>\n",
       "      <td>Couple Leisure</td>\n",
       "      <td>Economy Class</td>\n",
       "      <td>Edinburgh</td>\n",
       "      <td>Paris Beauvais</td>\n",
       "      <td>October 2023</td>\n",
       "      <td>5.0</td>\n",
       "      <td>5.0</td>\n",
       "      <td>4.0</td>\n",
       "      <td>5.0</td>\n",
       "      <td>5.0</td>\n",
       "      <td>yes</td>\n",
       "    </tr>\n",
       "    <tr>\n",
       "      <th>3</th>\n",
       "      <td>2024-01-07</td>\n",
       "      <td>6.0</td>\n",
       "      <td>United Kingdom</td>\n",
       "      <td>Trip Verified</td>\n",
       "      <td>“a decent offering from Ryanair”</td>\n",
       "      <td>I should like to review my flight from Faro to...</td>\n",
       "      <td>Boeing 737</td>\n",
       "      <td>Solo Leisure</td>\n",
       "      <td>Economy Class</td>\n",
       "      <td>Faro</td>\n",
       "      <td>Liverpool</td>\n",
       "      <td>January 2024</td>\n",
       "      <td>3.0</td>\n",
       "      <td>2.0</td>\n",
       "      <td>1.0</td>\n",
       "      <td>3.0</td>\n",
       "      <td>3.0</td>\n",
       "      <td>yes</td>\n",
       "    </tr>\n",
       "    <tr>\n",
       "      <th>4</th>\n",
       "      <td>2024-01-06</td>\n",
       "      <td>10.0</td>\n",
       "      <td>Israel</td>\n",
       "      <td>Trip Verified</td>\n",
       "      <td>“cabin crew were welcoming and friendly”</td>\n",
       "      <td>Flight left the gate ahead of schedule, fare w...</td>\n",
       "      <td>Boeing 737-800</td>\n",
       "      <td>Solo Leisure</td>\n",
       "      <td>Economy Class</td>\n",
       "      <td>Dublin</td>\n",
       "      <td>Manchester</td>\n",
       "      <td>January 2024</td>\n",
       "      <td>4.0</td>\n",
       "      <td>5.0</td>\n",
       "      <td>NaN</td>\n",
       "      <td>4.0</td>\n",
       "      <td>5.0</td>\n",
       "      <td>yes</td>\n",
       "    </tr>\n",
       "  </tbody>\n",
       "</table>\n",
       "</div>"
      ],
      "text/plain": [
       "  Date Published  Overall Rating Passenger Country  Trip_verified  \\\n",
       "0     2024-02-03            10.0    United Kingdom   Not Verified   \n",
       "1     2024-01-26            10.0    United Kingdom  Trip Verified   \n",
       "2     2024-01-20            10.0    United Kingdom  Trip Verified   \n",
       "3     2024-01-07             6.0    United Kingdom  Trip Verified   \n",
       "4     2024-01-06            10.0            Israel  Trip Verified   \n",
       "\n",
       "                              Comment title  \\\n",
       "0         \"bang on time and smooth flights\"   \n",
       "1          \"Another good affordable flight\"   \n",
       "2                       “Really impressed!”   \n",
       "3          “a decent offering from Ryanair”   \n",
       "4  “cabin crew were welcoming and friendly”   \n",
       "\n",
       "                                             Comment        Aircraft  \\\n",
       "0  Flew back from Faro to London Luton Friday 2nd...  Boeing 737 900   \n",
       "1  Another good affordable flight with Ryanair. O...             NaN   \n",
       "2  Really impressed! You get what you pay for, th...  Boeing 737-800   \n",
       "3  I should like to review my flight from Faro to...      Boeing 737   \n",
       "4  Flight left the gate ahead of schedule, fare w...  Boeing 737-800   \n",
       "\n",
       "  Type Of Traveller      Seat Type     Origin     Destination     Date Flown  \\\n",
       "0    Family Leisure  Economy Class       Faro           Luton  February 2024   \n",
       "1    Couple Leisure  Economy Class    Belfast        Alicante   January 2024   \n",
       "2    Couple Leisure  Economy Class  Edinburgh  Paris Beauvais   October 2023   \n",
       "3      Solo Leisure  Economy Class       Faro       Liverpool   January 2024   \n",
       "4      Solo Leisure  Economy Class     Dublin      Manchester   January 2024   \n",
       "\n",
       "   Seat Comfort  Cabin Staff Service  Food & Beverages  Ground Service  \\\n",
       "0           4.0                  5.0               3.0             4.0   \n",
       "1           3.0                  5.0               3.0             5.0   \n",
       "2           5.0                  5.0               4.0             5.0   \n",
       "3           3.0                  2.0               1.0             3.0   \n",
       "4           4.0                  5.0               NaN             4.0   \n",
       "\n",
       "   Value For Money Recommended  \n",
       "0              4.0         yes  \n",
       "1              5.0         yes  \n",
       "2              5.0         yes  \n",
       "3              3.0         yes  \n",
       "4              5.0         yes  "
      ]
     },
     "execution_count": 128,
     "metadata": {},
     "output_type": "execute_result"
    }
   ],
   "source": [
    "ryanair_cleaned.head()"
   ]
  },
  {
   "cell_type": "code",
   "execution_count": 129,
   "metadata": {},
   "outputs": [
    {
     "data": {
      "text/html": [
       "<div>\n",
       "<style scoped>\n",
       "    .dataframe tbody tr th:only-of-type {\n",
       "        vertical-align: middle;\n",
       "    }\n",
       "\n",
       "    .dataframe tbody tr th {\n",
       "        vertical-align: top;\n",
       "    }\n",
       "\n",
       "    .dataframe thead th {\n",
       "        text-align: right;\n",
       "    }\n",
       "</style>\n",
       "<table border=\"1\" class=\"dataframe\">\n",
       "  <thead>\n",
       "    <tr style=\"text-align: right;\">\n",
       "      <th></th>\n",
       "      <th>Date Published</th>\n",
       "      <th>Overall Rating</th>\n",
       "      <th>Passenger Country</th>\n",
       "      <th>Trip_verified</th>\n",
       "      <th>Comment title</th>\n",
       "      <th>Comment</th>\n",
       "      <th>Aircraft</th>\n",
       "      <th>Type Of Traveller</th>\n",
       "      <th>Seat Type</th>\n",
       "      <th>Origin</th>\n",
       "      <th>Destination</th>\n",
       "      <th>Date Flown</th>\n",
       "      <th>Seat Comfort</th>\n",
       "      <th>Cabin Staff Service</th>\n",
       "      <th>Food &amp; Beverages</th>\n",
       "      <th>Ground Service</th>\n",
       "      <th>Value For Money</th>\n",
       "      <th>Recommended</th>\n",
       "    </tr>\n",
       "  </thead>\n",
       "  <tbody>\n",
       "    <tr>\n",
       "      <th>1</th>\n",
       "      <td>2024-01-26</td>\n",
       "      <td>10.0</td>\n",
       "      <td>United Kingdom</td>\n",
       "      <td>Trip Verified</td>\n",
       "      <td>\"Another good affordable flight\"</td>\n",
       "      <td>Another good affordable flight with Ryanair. O...</td>\n",
       "      <td>NaN</td>\n",
       "      <td>Couple Leisure</td>\n",
       "      <td>Economy Class</td>\n",
       "      <td>Belfast</td>\n",
       "      <td>Alicante</td>\n",
       "      <td>January 2024</td>\n",
       "      <td>3.0</td>\n",
       "      <td>5.0</td>\n",
       "      <td>3.0</td>\n",
       "      <td>5.0</td>\n",
       "      <td>5.0</td>\n",
       "      <td>yes</td>\n",
       "    </tr>\n",
       "    <tr>\n",
       "      <th>5</th>\n",
       "      <td>2024-01-06</td>\n",
       "      <td>1.0</td>\n",
       "      <td>Denmark</td>\n",
       "      <td>Not Verified</td>\n",
       "      <td>\"close online checkin 3 hours before\"</td>\n",
       "      <td>Booked a fight from Copenhagen to Poland thoug...</td>\n",
       "      <td>NaN</td>\n",
       "      <td>Solo Leisure</td>\n",
       "      <td>Economy Class</td>\n",
       "      <td>Copenhagen</td>\n",
       "      <td>Gdansk</td>\n",
       "      <td>January 2024</td>\n",
       "      <td>2.0</td>\n",
       "      <td>2.0</td>\n",
       "      <td>2.0</td>\n",
       "      <td>1.0</td>\n",
       "      <td>1.0</td>\n",
       "      <td>no</td>\n",
       "    </tr>\n",
       "    <tr>\n",
       "      <th>7</th>\n",
       "      <td>2024-01-03</td>\n",
       "      <td>1.0</td>\n",
       "      <td>Australia</td>\n",
       "      <td>Trip Verified</td>\n",
       "      <td>\"asked me to pay for the backpack\"</td>\n",
       "      <td>Staff is rude and has no manners, let alone be...</td>\n",
       "      <td>NaN</td>\n",
       "      <td>Solo Leisure</td>\n",
       "      <td>Economy Class</td>\n",
       "      <td>Beauvais</td>\n",
       "      <td>Barcelona</td>\n",
       "      <td>January 2024</td>\n",
       "      <td>NaN</td>\n",
       "      <td>NaN</td>\n",
       "      <td>NaN</td>\n",
       "      <td>1.0</td>\n",
       "      <td>1.0</td>\n",
       "      <td>no</td>\n",
       "    </tr>\n",
       "    <tr>\n",
       "      <th>8</th>\n",
       "      <td>2023-12-25</td>\n",
       "      <td>1.0</td>\n",
       "      <td>United Kingdom</td>\n",
       "      <td>Trip Verified</td>\n",
       "      <td>\"ground service staff is really bad\"</td>\n",
       "      <td>Ryanair ground service staff is really bad. If...</td>\n",
       "      <td>NaN</td>\n",
       "      <td>Family Leisure</td>\n",
       "      <td>Economy Class</td>\n",
       "      <td>Edinbrough</td>\n",
       "      <td>Tirana</td>\n",
       "      <td>December 2023</td>\n",
       "      <td>1.0</td>\n",
       "      <td>NaN</td>\n",
       "      <td>NaN</td>\n",
       "      <td>1.0</td>\n",
       "      <td>1.0</td>\n",
       "      <td>no</td>\n",
       "    </tr>\n",
       "    <tr>\n",
       "      <th>9</th>\n",
       "      <td>2023-12-08</td>\n",
       "      <td>1.0</td>\n",
       "      <td>Germany</td>\n",
       "      <td>Not Verified</td>\n",
       "      <td>\"they made us pay a No show fee\"</td>\n",
       "      <td>I wanted to check in online a night before our...</td>\n",
       "      <td>NaN</td>\n",
       "      <td>Couple Leisure</td>\n",
       "      <td>Economy Class</td>\n",
       "      <td>Cologne</td>\n",
       "      <td>Palma de Mallorca</td>\n",
       "      <td>November 2023</td>\n",
       "      <td>1.0</td>\n",
       "      <td>1.0</td>\n",
       "      <td>NaN</td>\n",
       "      <td>1.0</td>\n",
       "      <td>1.0</td>\n",
       "      <td>no</td>\n",
       "    </tr>\n",
       "  </tbody>\n",
       "</table>\n",
       "</div>"
      ],
      "text/plain": [
       "  Date Published  Overall Rating Passenger Country  Trip_verified  \\\n",
       "1     2024-01-26            10.0    United Kingdom  Trip Verified   \n",
       "5     2024-01-06             1.0           Denmark   Not Verified   \n",
       "7     2024-01-03             1.0         Australia  Trip Verified   \n",
       "8     2023-12-25             1.0    United Kingdom  Trip Verified   \n",
       "9     2023-12-08             1.0           Germany   Not Verified   \n",
       "\n",
       "                           Comment title  \\\n",
       "1       \"Another good affordable flight\"   \n",
       "5  \"close online checkin 3 hours before\"   \n",
       "7     \"asked me to pay for the backpack\"   \n",
       "8   \"ground service staff is really bad\"   \n",
       "9       \"they made us pay a No show fee\"   \n",
       "\n",
       "                                             Comment Aircraft  \\\n",
       "1  Another good affordable flight with Ryanair. O...      NaN   \n",
       "5  Booked a fight from Copenhagen to Poland thoug...      NaN   \n",
       "7  Staff is rude and has no manners, let alone be...      NaN   \n",
       "8  Ryanair ground service staff is really bad. If...      NaN   \n",
       "9  I wanted to check in online a night before our...      NaN   \n",
       "\n",
       "  Type Of Traveller      Seat Type      Origin        Destination  \\\n",
       "1    Couple Leisure  Economy Class     Belfast           Alicante   \n",
       "5      Solo Leisure  Economy Class  Copenhagen             Gdansk   \n",
       "7      Solo Leisure  Economy Class    Beauvais          Barcelona   \n",
       "8    Family Leisure  Economy Class  Edinbrough             Tirana   \n",
       "9    Couple Leisure  Economy Class     Cologne  Palma de Mallorca   \n",
       "\n",
       "      Date Flown  Seat Comfort  Cabin Staff Service  Food & Beverages  \\\n",
       "1   January 2024           3.0                  5.0               3.0   \n",
       "5   January 2024           2.0                  2.0               2.0   \n",
       "7   January 2024           NaN                  NaN               NaN   \n",
       "8  December 2023           1.0                  NaN               NaN   \n",
       "9  November 2023           1.0                  1.0               NaN   \n",
       "\n",
       "   Ground Service  Value For Money Recommended  \n",
       "1             5.0              5.0         yes  \n",
       "5             1.0              1.0          no  \n",
       "7             1.0              1.0          no  \n",
       "8             1.0              1.0          no  \n",
       "9             1.0              1.0          no  "
      ]
     },
     "execution_count": 129,
     "metadata": {},
     "output_type": "execute_result"
    }
   ],
   "source": [
    "aircraft_nan_rows = ryanair_cleaned[ryanair_cleaned['Aircraft'].isna()].head(5)\n",
    "aircraft_nan_rows"
   ]
  },
  {
   "cell_type": "code",
   "execution_count": 130,
   "metadata": {},
   "outputs": [
    {
     "data": {
      "text/plain": [
       "array(['Boeing 737 900', nan, 'Boeing 737-800', 'Boeing 737',\n",
       "       'Boeing 737Max', 'Boeing 737 800', 'Boeing 737-8200', 'B733-8022',\n",
       "       'Boeing 347', 'Boeing 737 max', 'Boeing 737-10', 'B737',\n",
       "       'Boeing 737 Max 8', '737 800', 'Boeing 737 Max', 'Boeing 737 MAX',\n",
       "       'Boeing 737-8AS', 'A320', 'Boeing 737 MAX 8-200', 'Boeing 738',\n",
       "       'Boeing 737max', 'Boeing 737-800 NG', 'Boeing 747-400',\n",
       "       'Boeing 373-800', 'Bowen 737', 'Boeing 747', 'FR8852',\n",
       "       'Boeing 737-400', 'Boeing  737-800', 'B737 800', 'Boeing 737-8',\n",
       "       'A340', 'Boeing 737-700', 'A319', 'B737-800', 'Boeing 737- 800',\n",
       "       'Boeing 737 - 800', 'Boing 737-800', 'Boeing', 'Boeing 747-800',\n",
       "       'Boeing 737-900', 'Boeing 737-800 EI-ENX', 'Boeing 737 / 800',\n",
       "       'B747', 'Boeing 737-800 series', '737300', 'Boeing 737-300',\n",
       "       'A-340', 'Boeing 737/800', 'Boeing 737-800WL'], dtype=object)"
      ]
     },
     "execution_count": 130,
     "metadata": {},
     "output_type": "execute_result"
    }
   ],
   "source": [
    "ryanair_cleaned['Aircraft'].unique()"
   ]
  },
  {
   "cell_type": "code",
   "execution_count": 131,
   "metadata": {},
   "outputs": [],
   "source": [
    "#As i found all Rynair Aircrafts i can be sure which to include and which to remove\n",
    "#Now i will do mapping of them\n",
    "aircraft_mapping = {\n",
    "    'Boeing 737-300': 'Boeing 737 Classic',\n",
    "    'Boeing 737-700': 'Boeing 737 NG',\n",
    "    'Boeing 737' : 'Boeing 737 NG',\n",
    "    'Boeing 373-800': 'Boeing 737 NG',\n",
    "    'Boeing 737-800': 'Boeing 737 NG',\n",
    "    'Boeing 737-8': 'Boeing 737 NG',\n",
    "    'Boeing 737-900': 'Boeing 737 NG',\n",
    "    'Boeing 737 Max': 'Boeing 737 MAX',\n",
    "    'Boeing 737 MAX': 'Boeing 737 MAX',\n",
    "    'Boeing 737 Max 8': 'Boeing 737 MAX',\n",
    "    'Boeing 737 Max 9': 'Boeing 737 MAX',\n",
    "    'Boeing 737 Max 10': 'Boeing 737 MAX',\n",
    "    'Boeing 737-8AS': 'Boeing 737 MAX',\n",
    "    'Boeing 747-400': 'Boeing 747',\n",
    "    'Boeing 747': 'Boeing 747',\n",
    "    'Boeing 747-800': 'Boeing 747',\n",
    "    'A320': 'Airbus A320',\n",
    "    'A319': 'Airbus A320',\n",
    "    'A340': 'Airbus A340',\n",
    "    'B737': 'Boeing 737 NG',\n",
    "    'B747': 'Boeing 747',\n",
    "    'Boeing 737 800': 'Boeing 737 NG',\n",
    "    'Boeing 737-800 NG': 'Boeing 737 NG',\n",
    "    'Boeing 737-800WL': 'Boeing 737 NG',\n",
    "    '737300': 'Boeing 737 Classic', \n",
    "    '737 800': 'Boeing 737 NG',\n",
    "    'B737-800': 'Boeing 737 NG',\n",
    "    'Boeing 737- 800': 'Boeing 737 NG',\n",
    "    'Boeing 737 - 800': 'Boeing 737 NG',\n",
    "    'Boeing 737 / 800': 'Boeing 737 NG',\n",
    "    'Boeing 737/800': 'Boeing 737 NG',\n",
    "    'Boeing 737-800 NG': 'Boeing 737 NG',\n",
    "    'Boeing 737-800 series': 'Boeing 737 NG',\n",
    "    'Boeing 737-800 EI-ENX': 'Boeing 737 NG',\n",
    "    'Boing 737-800': 'Boeing 738',\n",
    "    'Boeing 738': 'Boeing 738 NG ',\n",
    "    'Boeing 737Max': 'Boeing 737 MAX',\n",
    "    'Boeing 737max': 'Boeing 737 MAX',\n",
    "    'Boeing 737 max': 'Boeing 737 MAX',\n",
    "    'Boeing 737 MAX 8-200': 'Boeing 737 MAX',\n",
    "    'Boeing 737-8200': 'Boeing 737 MAX',\n",
    "    'B733-8022': 'Boeing 737 MAX',\n",
    "    'Boeing 347': 'Boeing 747',\n",
    "    'Boeing 737-10': 'Boeing MAX 10',\n",
    "    'Bowen 737': 'Boeing 737 NG',\n",
    "    'FR8852': 'Boeing 737 MAX 8',\n",
    "    'Boeing 737-400': 'Boeing 737 Classic',\n",
    "    'Boeing 737 - 800': 'Boeing 737 NG',\n",
    "    'Boing 737-800': 'Being 737 NG',\n",
    "    'Boeing 737': 'Boeing 737 NG',\n",
    "    'Boeing': 'Boeing 737 NG,'\n",
    "\n",
    "\n",
    "\n",
    "   \n",
    "}\n",
    "\n",
    "def map_aircraft_variant_to_family(variant, mapping):\n",
    "    variant_normalized = variant.replace(\" \", \"\").lower()\n",
    "    for key in mapping:\n",
    "        key_normalized = key.replace(\" \", \"\").lower()\n",
    "        if key_normalized in variant_normalized:\n",
    "            return mapping[key]\n",
    "    return \"Other/Unknown\"\n",
    "\n",
    "# Apply the mapping to the 'Aircraft' column\n",
    "ryanair_cleaned['Aircraft Family'] = ryanair_cleaned['Aircraft'].apply(\n",
    "    lambda x: map_aircraft_variant_to_family(x, aircraft_mapping) if pd.notnull(x) else \"Unknown\"\n",
    ")\n",
    "\n"
   ]
  },
  {
   "cell_type": "code",
   "execution_count": 132,
   "metadata": {},
   "outputs": [
    {
     "data": {
      "text/html": [
       "<div>\n",
       "<style scoped>\n",
       "    .dataframe tbody tr th:only-of-type {\n",
       "        vertical-align: middle;\n",
       "    }\n",
       "\n",
       "    .dataframe tbody tr th {\n",
       "        vertical-align: top;\n",
       "    }\n",
       "\n",
       "    .dataframe thead th {\n",
       "        text-align: right;\n",
       "    }\n",
       "</style>\n",
       "<table border=\"1\" class=\"dataframe\">\n",
       "  <thead>\n",
       "    <tr style=\"text-align: right;\">\n",
       "      <th></th>\n",
       "      <th>Date Published</th>\n",
       "      <th>Overall Rating</th>\n",
       "      <th>Passenger Country</th>\n",
       "      <th>Trip_verified</th>\n",
       "      <th>Comment title</th>\n",
       "      <th>Comment</th>\n",
       "      <th>Aircraft</th>\n",
       "      <th>Type Of Traveller</th>\n",
       "      <th>Seat Type</th>\n",
       "      <th>Origin</th>\n",
       "      <th>Destination</th>\n",
       "      <th>Date Flown</th>\n",
       "      <th>Seat Comfort</th>\n",
       "      <th>Cabin Staff Service</th>\n",
       "      <th>Food &amp; Beverages</th>\n",
       "      <th>Ground Service</th>\n",
       "      <th>Value For Money</th>\n",
       "      <th>Recommended</th>\n",
       "      <th>Aircraft Family</th>\n",
       "    </tr>\n",
       "  </thead>\n",
       "  <tbody>\n",
       "    <tr>\n",
       "      <th>0</th>\n",
       "      <td>2024-02-03</td>\n",
       "      <td>10.0</td>\n",
       "      <td>United Kingdom</td>\n",
       "      <td>Not Verified</td>\n",
       "      <td>\"bang on time and smooth flights\"</td>\n",
       "      <td>Flew back from Faro to London Luton Friday 2nd...</td>\n",
       "      <td>Boeing 737 900</td>\n",
       "      <td>Family Leisure</td>\n",
       "      <td>Economy Class</td>\n",
       "      <td>Faro</td>\n",
       "      <td>Luton</td>\n",
       "      <td>February 2024</td>\n",
       "      <td>4.0</td>\n",
       "      <td>5.0</td>\n",
       "      <td>3.0</td>\n",
       "      <td>4.0</td>\n",
       "      <td>4.0</td>\n",
       "      <td>yes</td>\n",
       "      <td>Boeing 737 NG</td>\n",
       "    </tr>\n",
       "    <tr>\n",
       "      <th>1</th>\n",
       "      <td>2024-01-26</td>\n",
       "      <td>10.0</td>\n",
       "      <td>United Kingdom</td>\n",
       "      <td>Trip Verified</td>\n",
       "      <td>\"Another good affordable flight\"</td>\n",
       "      <td>Another good affordable flight with Ryanair. O...</td>\n",
       "      <td>NaN</td>\n",
       "      <td>Couple Leisure</td>\n",
       "      <td>Economy Class</td>\n",
       "      <td>Belfast</td>\n",
       "      <td>Alicante</td>\n",
       "      <td>January 2024</td>\n",
       "      <td>3.0</td>\n",
       "      <td>5.0</td>\n",
       "      <td>3.0</td>\n",
       "      <td>5.0</td>\n",
       "      <td>5.0</td>\n",
       "      <td>yes</td>\n",
       "      <td>Unknown</td>\n",
       "    </tr>\n",
       "    <tr>\n",
       "      <th>2</th>\n",
       "      <td>2024-01-20</td>\n",
       "      <td>10.0</td>\n",
       "      <td>United Kingdom</td>\n",
       "      <td>Trip Verified</td>\n",
       "      <td>“Really impressed!”</td>\n",
       "      <td>Really impressed! You get what you pay for, th...</td>\n",
       "      <td>Boeing 737-800</td>\n",
       "      <td>Couple Leisure</td>\n",
       "      <td>Economy Class</td>\n",
       "      <td>Edinburgh</td>\n",
       "      <td>Paris Beauvais</td>\n",
       "      <td>October 2023</td>\n",
       "      <td>5.0</td>\n",
       "      <td>5.0</td>\n",
       "      <td>4.0</td>\n",
       "      <td>5.0</td>\n",
       "      <td>5.0</td>\n",
       "      <td>yes</td>\n",
       "      <td>Boeing 737 NG</td>\n",
       "    </tr>\n",
       "    <tr>\n",
       "      <th>3</th>\n",
       "      <td>2024-01-07</td>\n",
       "      <td>6.0</td>\n",
       "      <td>United Kingdom</td>\n",
       "      <td>Trip Verified</td>\n",
       "      <td>“a decent offering from Ryanair”</td>\n",
       "      <td>I should like to review my flight from Faro to...</td>\n",
       "      <td>Boeing 737</td>\n",
       "      <td>Solo Leisure</td>\n",
       "      <td>Economy Class</td>\n",
       "      <td>Faro</td>\n",
       "      <td>Liverpool</td>\n",
       "      <td>January 2024</td>\n",
       "      <td>3.0</td>\n",
       "      <td>2.0</td>\n",
       "      <td>1.0</td>\n",
       "      <td>3.0</td>\n",
       "      <td>3.0</td>\n",
       "      <td>yes</td>\n",
       "      <td>Boeing 737 NG</td>\n",
       "    </tr>\n",
       "    <tr>\n",
       "      <th>4</th>\n",
       "      <td>2024-01-06</td>\n",
       "      <td>10.0</td>\n",
       "      <td>Israel</td>\n",
       "      <td>Trip Verified</td>\n",
       "      <td>“cabin crew were welcoming and friendly”</td>\n",
       "      <td>Flight left the gate ahead of schedule, fare w...</td>\n",
       "      <td>Boeing 737-800</td>\n",
       "      <td>Solo Leisure</td>\n",
       "      <td>Economy Class</td>\n",
       "      <td>Dublin</td>\n",
       "      <td>Manchester</td>\n",
       "      <td>January 2024</td>\n",
       "      <td>4.0</td>\n",
       "      <td>5.0</td>\n",
       "      <td>NaN</td>\n",
       "      <td>4.0</td>\n",
       "      <td>5.0</td>\n",
       "      <td>yes</td>\n",
       "      <td>Boeing 737 NG</td>\n",
       "    </tr>\n",
       "  </tbody>\n",
       "</table>\n",
       "</div>"
      ],
      "text/plain": [
       "  Date Published  Overall Rating Passenger Country  Trip_verified  \\\n",
       "0     2024-02-03            10.0    United Kingdom   Not Verified   \n",
       "1     2024-01-26            10.0    United Kingdom  Trip Verified   \n",
       "2     2024-01-20            10.0    United Kingdom  Trip Verified   \n",
       "3     2024-01-07             6.0    United Kingdom  Trip Verified   \n",
       "4     2024-01-06            10.0            Israel  Trip Verified   \n",
       "\n",
       "                              Comment title  \\\n",
       "0         \"bang on time and smooth flights\"   \n",
       "1          \"Another good affordable flight\"   \n",
       "2                       “Really impressed!”   \n",
       "3          “a decent offering from Ryanair”   \n",
       "4  “cabin crew were welcoming and friendly”   \n",
       "\n",
       "                                             Comment        Aircraft  \\\n",
       "0  Flew back from Faro to London Luton Friday 2nd...  Boeing 737 900   \n",
       "1  Another good affordable flight with Ryanair. O...             NaN   \n",
       "2  Really impressed! You get what you pay for, th...  Boeing 737-800   \n",
       "3  I should like to review my flight from Faro to...      Boeing 737   \n",
       "4  Flight left the gate ahead of schedule, fare w...  Boeing 737-800   \n",
       "\n",
       "  Type Of Traveller      Seat Type     Origin     Destination     Date Flown  \\\n",
       "0    Family Leisure  Economy Class       Faro           Luton  February 2024   \n",
       "1    Couple Leisure  Economy Class    Belfast        Alicante   January 2024   \n",
       "2    Couple Leisure  Economy Class  Edinburgh  Paris Beauvais   October 2023   \n",
       "3      Solo Leisure  Economy Class       Faro       Liverpool   January 2024   \n",
       "4      Solo Leisure  Economy Class     Dublin      Manchester   January 2024   \n",
       "\n",
       "   Seat Comfort  Cabin Staff Service  Food & Beverages  Ground Service  \\\n",
       "0           4.0                  5.0               3.0             4.0   \n",
       "1           3.0                  5.0               3.0             5.0   \n",
       "2           5.0                  5.0               4.0             5.0   \n",
       "3           3.0                  2.0               1.0             3.0   \n",
       "4           4.0                  5.0               NaN             4.0   \n",
       "\n",
       "   Value For Money Recommended Aircraft Family  \n",
       "0              4.0         yes   Boeing 737 NG  \n",
       "1              5.0         yes         Unknown  \n",
       "2              5.0         yes   Boeing 737 NG  \n",
       "3              3.0         yes   Boeing 737 NG  \n",
       "4              5.0         yes   Boeing 737 NG  "
      ]
     },
     "execution_count": 132,
     "metadata": {},
     "output_type": "execute_result"
    }
   ],
   "source": [
    "ryanair_cleaned.head()"
   ]
  },
  {
   "cell_type": "code",
   "execution_count": 133,
   "metadata": {},
   "outputs": [
    {
     "data": {
      "text/plain": [
       "array(['Luton', 'Alicante', 'Paris Beauvais', 'Liverpool', 'Manchester',\n",
       "       'Gdansk', 'Pisa', 'Barcelona', 'Tirana', 'Palma de Mallorca',\n",
       "       'Tirana via Stansted London', 'Stansted', 'Gatwick', 'Dublin',\n",
       "       'Funchal', 'Faro', 'Naples', 'Milan', 'Vilnius', 'Riga', 'Paphos',\n",
       "       'Kefalonia', 'Corfu', 'Copenhagen', 'La Rochelle', 'Vasteras',\n",
       "       'Carcassonne', 'Athens', 'Madeira', 'Tanger', 'Bristol, UK',\n",
       "       'Lisbon', 'Bratislava', 'Rome', 'Chania', 'Budapest', 'Bordeaux',\n",
       "       'Berlin', 'Limoges', 'London Gatwick', 'Venice',\n",
       "       'Newcastle via Dublin', 'Belfast', 'Edinburgh', 'Bergamo',\n",
       "       'Santorini', 'Dortmund', 'Fuertaventura', 'Charleroi', 'Marakkesh',\n",
       "       'London', 'London Stansted', 'Brussels', 'Cologne', 'Newquay',\n",
       "       'Bergamo via Bristol', 'Bristol', 'Murcia', 'Newcastle', 'Warsaw',\n",
       "       'Málaga', 'Tenerife', 'Marseille', 'Banja Luka', 'Milan Bergamo',\n",
       "       'Catania', 'Malaga', 'Gdańsk', 'Fuerteventura', 'Bodrum',\n",
       "       'Maastricht', 'Gran Canaria', 'Eindhoven', 'Rīga', 'Wroclaw',\n",
       "       'Stockholm', 'Krakow', 'Nuremberg', 'Tangier', 'Leeds',\n",
       "       'Fuerventura', 'Kraków', 'Kaunas via Budapest', 'Milan (Linate)',\n",
       "       'Dalaman', 'Marrakech via Madrid', 'Seville', 'Bergerac', 'Paris',\n",
       "       'Santiago', 'Rimini', 'Tenerife South', 'Luxembourg',\n",
       "       'Stockholm Arlanda', 'Menorca', 'Kotor', 'Bolonia via Mykonos',\n",
       "       'Wien', 'Bucharest', 'Malta', 'Torp', 'Zagreb', 'Birmingham',\n",
       "       'Majorca', 'Lamezia', 'Cork', 'Palermo', 'Bergamo Italy', 'Oslo',\n",
       "       'Brussels South', 'Shannon', 'Kerry', 'Prague', 'Tel Aviv',\n",
       "       'Madrid', 'Nantes', 'Toulouse', 'Arrecife', 'Valletta',\n",
       "       'Rome Ciampino', 'Knock', 'Southend', 'Milán', 'Dubrosnik',\n",
       "       'Rodez', 'Vienna', 'Budapest via Stansted',\n",
       "       'Gothenburg via Stansted', 'Crete', 'Ibiza', 'Palma', 'Bologna',\n",
       "       'Shannon via Gatwick', 'Podgorica', 'Frankfurt', 'Amsterdam',\n",
       "       'Thessaloniki', 'Perugia', 'Cracow', 'Rhodes', 'Lourdes', 'Porto',\n",
       "       'Brindisi', 'Ponta Delgada', 'Tenerife south', 'Lanzarote',\n",
       "       'Zaragoza', 'Kaunas', 'Bremen', 'Treviso', 'Bari', 'Einhoven',\n",
       "       'Derry', 'London (Stansted)', 'Sarajevo via Cologne', 'Morocco',\n",
       "       'Marrakech', 'Fuertuventura', 'Valencia', 'Tallinn', 'Trieste',\n",
       "       'Prestwick', 'Milano Bergamo', 'Glasgow', 'Pescara', 'Marrakesh',\n",
       "       'Kiev', 'Frankfurt Hahn', 'Split', 'Cagliari', 'Sophia', 'Cardiff',\n",
       "       'Stockholm Skavsta', 'London Southend', 'Bournemouth', 'Santander',\n",
       "       'Rabat', 'Hamburg', 'Brno', 'Aarhus', 'East Midlands',\n",
       "       'Berlin Schönefeld', 'Girona', 'Stuttgart', 'Venice Treviso',\n",
       "       'Brussels Charleroi', 'Rome-Ciampino', 'Cluj-Napoca via Luton',\n",
       "       'Madrid via Berlin', 'Tampere', 'Łódź', 'Ovda',\n",
       "       'Prague via Stansted', 'Barcelone', 'Stockholm-Skavsta',\n",
       "       'Nis via Weeze', 'Nürnberg', 'Turin', 'Brindisi via Stansted',\n",
       "       'Stansted (London)', 'Barcelona Reus', 'Malta and return',\n",
       "       'Dusseldorf', 'Heraklion', 'Sofia', 'Glasgow via Stansted',\n",
       "       'Gerona', 'Berlin-Schonefeld', 'Comiso', 'Pardubice', 'Rhodos',\n",
       "       'Las Palmas', 'Stanford', 'Newcastle-upon-Tyne', 'Sevilla',\n",
       "       'Oporto', 'Tarbes', 'Toulouse via London Stansted', 'Karlsruhe',\n",
       "       'Grenoble', 'Wrowclaw', 'Athens via Stansted',\n",
       "       'Stansted via Aalborg', 'Vilnius via Orio al Serio',\n",
       "       'Cologne Bonn', 'Verona', 'Zadar', 'Rome Ciampnio', 'Stanstead',\n",
       "       'Agadir', 'Milano', 'London Luton', 'Lisbon, Portugal',\n",
       "       'Brussels CRL', 'Vigo', 'Santiago de Compustelo', 'Rzeszow',\n",
       "       'Poitiers', 'Timisoara', 'Fez', 'BCN', 'SXF', 'DUB', 'EDI', 'BUD',\n",
       "       'STN', 'FAO', 'BRS', 'LGW', 'PMI', 'CPH', 'LTN', 'ATH via BGY',\n",
       "       'MAN', 'TSF', 'AGP', 'POZ', 'FCO', 'SNN', 'VNO', 'PDL', 'LIS',\n",
       "       'ACE', 'CIA', 'MXP', 'OPO', 'SVQ', 'EMA', 'NYO', 'TLL', 'FUE',\n",
       "       'MAD', 'BLQ', 'SDR', 'AMS', 'BTS', 'TFS', 'CRL', 'MJV', 'CGN',\n",
       "       'VRN', 'NUE', 'FNI', 'PIK', 'FKB', 'KUN', 'ALC', 'GLA via DUB',\n",
       "       'BVA', 'JMK', 'OTP', 'MLA', 'LPA', 'WRO', 'LPL', 'LIG', 'GOT',\n",
       "       'PUY', 'BFS', 'SKG', 'BHX', 'BRU', 'HAM', 'WAW', 'PMO', 'LBA',\n",
       "       'JTR', 'FEZ', 'TNG', 'RHO', 'ZAZ', 'E.Midlands', 'Gothenburg',\n",
       "       'Beziers', 'Fuertenventura', 'Brussel', 'Jerez', 'Rriga', 'PSA',\n",
       "       'Denmark', 'FMM', 'HHN', 'Warsaw Modlin', 'BRE', 'Leeds Bradford',\n",
       "       'Lanzorote', 'CHQ', 'EDI via LON', 'Barcelona El Prat',\n",
       "       'Glasgow Prestwick', 'Alghero', 'Kos', 'Billund', 'Mallorca',\n",
       "       'Faro Portugal', 'Krakow return', 'Cyprus', 'Haugesund', 'Poznan',\n",
       "       'AHO', 'Knock, Ireland', 'Rzeszow, Jasionka', 'Gasglow',\n",
       "       'Bologna Italy', 'BRE via DUB', nan, 'Bydgoszcz', 'CHP'],\n",
       "      dtype=object)"
      ]
     },
     "execution_count": 133,
     "metadata": {},
     "output_type": "execute_result"
    }
   ],
   "source": [
    "ryanair_cleaned['Destination'].unique()"
   ]
  },
  {
   "cell_type": "code",
   "execution_count": 134,
   "metadata": {},
   "outputs": [],
   "source": [
    "if not ryanair_cleaned.columns.any().islower():\n",
    "    new_cols = []\n",
    "    for item in ryanair_cleaned.columns:\n",
    "        item = item.replace(' ', '_').lower()\n",
    "        new_cols.append(item)\n",
    "    ryanair_cleaned.columns = new_cols\n",
    "    \n",
    "# Drop rows with missing values.\n",
    "ryanair_cleaned.dropna(subset=['destination', 'origin'], inplace=True)"
   ]
  },
  {
   "cell_type": "code",
   "execution_count": 135,
   "metadata": {},
   "outputs": [
    {
     "name": "stdout",
     "output_type": "stream",
     "text": [
      "Examples of locations with non-ASCII characters:\n",
      "\t- Kraków\n",
      "\t- Düsseldorf\n",
      "\t- Nürnberg\n"
     ]
    }
   ],
   "source": [
    "# Define a regular expression to match non-ASCII characters\n",
    "non_ascii_pattern = r'[^\\x00-\\x7F]'\n",
    "\n",
    "# Use .str.contains to filter rows with non-ASCII characters\n",
    "non_ascii_origin = list(\n",
    "    ryanair_cleaned.loc[\n",
    "        ryanair_cleaned['origin']\n",
    "        .str.contains(non_ascii_pattern, regex=True)]\n",
    "    ['origin'].unique()\n",
    ")\n",
    "print('Examples of locations with non-ASCII characters:')\n",
    "for item in non_ascii_origin[:5]:\n",
    "    print(f'\\t- {item}')"
   ]
  },
  {
   "cell_type": "code",
   "execution_count": 136,
   "metadata": {},
   "outputs": [
    {
     "name": "stdout",
     "output_type": "stream",
     "text": [
      "Strings with non-ASCII characters left:\n",
      "\tNone\n"
     ]
    }
   ],
   "source": [
    "'''\n",
    "Get rid of diacritic marks.\n",
    "'''\n",
    "ryanair_cleaned['origin'] = (\n",
    "    ryanair_cleaned['origin']\n",
    "    .str.normalize('NFKD')\n",
    "    .str.encode('ascii', errors='ignore')\n",
    "    .str.decode('utf-8')\n",
    ")\n",
    "ryanair_cleaned['destination'] = (\n",
    "    ryanair_cleaned['destination']\n",
    "    .str.normalize('NFKD')\n",
    "    .str.encode('ascii', errors='ignore')\n",
    "    .str.decode('utf-8')\n",
    ")\n",
    "\n",
    "\n",
    "'''------- Check the result! -------'''\n",
    "# Use .str.contains to filter rows with non-ASCII characters\n",
    "# Origin.\n",
    "non_ascii_origin = list(\n",
    "    ryanair_cleaned.loc[\n",
    "        ryanair_cleaned['origin']\n",
    "        .str.contains(non_ascii_pattern, regex=True)]\n",
    "    ['origin'].unique()\n",
    ")\n",
    "# Destination.\n",
    "non_ascii_destination = list(\n",
    "    ryanair_cleaned.loc[\n",
    "        ryanair_cleaned['destination']\n",
    "        .str.contains(non_ascii_pattern, regex=True)]\n",
    "    ['destination'].unique()\n",
    ")\n",
    "\n",
    "print('Strings with non-ASCII characters left:')\n",
    "# If both lists are empty, print 'None'.\n",
    "if (len(non_ascii_destination) == 0) and (len(non_ascii_origin) == 0):\n",
    "    print('\\tNone')"
   ]
  },
  {
   "cell_type": "code",
   "execution_count": 137,
   "metadata": {},
   "outputs": [
    {
     "name": "stdout",
     "output_type": "stream",
     "text": [
      "Examples of locations with non-alphabetic characters:\n",
      "\t- Beziers, France\n",
      "\t- Leeds/Bradford\n",
      "\t- Tel-Aviv\n",
      "\t- Tel Aviv-Yafo\n",
      "\t- Crete (Chania)\n"
     ]
    }
   ],
   "source": [
    "# Define a regular expression to match\n",
    "# non-alphabetic characters except for spaces.\n",
    "non_alphabetic_pattern = r'[^A-Za-z\\s]'\n",
    "\n",
    "# Use .str.contains to filter rows with those characters\n",
    "non_ascii_origin = list(\n",
    "    ryanair_cleaned.loc[\n",
    "        ryanair_cleaned['origin']\n",
    "        .str.contains(non_alphabetic_pattern, regex=True)]\n",
    "    ['origin'].unique()\n",
    ")\n",
    "print('Examples of locations with non-alphabetic characters:')\n",
    "for item in non_ascii_origin[:5]:\n",
    "    print(f'\\t- {item}')"
   ]
  },
  {
   "cell_type": "code",
   "execution_count": 138,
   "metadata": {},
   "outputs": [],
   "source": [
    "'''\n",
    "Drop non-alphabetic symbols.\n",
    "'''\n",
    "ryanair_cleaned['origin'] = (\n",
    "    ryanair_cleaned['origin']\n",
    "    # Replace non-alphabetic characters with a space.\n",
    "    .str.replace(non_alphabetic_pattern, ' ', regex=True)\n",
    "    # Get rid of double spaces.\n",
    "    .str.replace('  ', ' ', regex=False)\n",
    ")\n",
    "\n",
    "ryanair_cleaned['destination'] = (\n",
    "    ryanair_cleaned['destination']\n",
    "    .str.replace(non_alphabetic_pattern, ' ', regex=True)\n",
    "    .str.replace('  ', ' ', regex=False)\n",
    ")"
   ]
  },
  {
   "cell_type": "code",
   "execution_count": 139,
   "metadata": {},
   "outputs": [
    {
     "name": "stdout",
     "output_type": "stream",
     "text": [
      "Examples:\n",
      "\t- Tirana via Stansted London\n",
      "\t- Newcastle via Dublin\n",
      "\t- Bergamo via Bristol\n",
      "-> Using locations before 'via' as destinations. ->\n",
      "Number of connecting flights left:\n",
      "0\n"
     ]
    }
   ],
   "source": [
    "condition = (\n",
    "    ryanair_cleaned['destination']\n",
    "    .str.contains(' via ')\n",
    ")\n",
    "\n",
    "connecting_flights = (\n",
    "    ryanair_cleaned\n",
    "    .loc[condition]\n",
    "    ['destination']\n",
    "    .to_list()\n",
    ")\n",
    "print('Examples:')\n",
    "for elem in connecting_flights[:3]:\n",
    "    print(f'\\t- {elem}')\n",
    "print(\"-> Using locations before 'via' as destinations. ->\")\n",
    "\n",
    "# Use only 1st element for the column.    \n",
    "ryanair_cleaned.loc[condition, 'destination'] = (\n",
    "    ryanair_cleaned\n",
    "    .loc[condition]\n",
    "    ['destination']\n",
    "    # Split a string to a list on ' via '.\n",
    "    .str.split(' via ')\n",
    "    # Extract 1st element from list after splitting.\n",
    "    .str.get(0)\n",
    ")\n",
    "print('Number of connecting flights left:')\n",
    "condition = (\n",
    "    ryanair_cleaned['destination']\n",
    "    .str.contains(' via ')\n",
    ")\n",
    "print(len(ryanair_cleaned.loc[condition]))"
   ]
  },
  {
   "cell_type": "markdown",
   "metadata": {},
   "source": [
    "Replace IATA codes and airport names with city names\n"
   ]
  },
  {
   "cell_type": "code",
   "execution_count": 140,
   "metadata": {},
   "outputs": [
    {
     "name": "stdout",
     "output_type": "stream",
     "text": [
      "There are 65 IATA code(s) (origin).\n",
      "For instance:\n",
      "\t- AC\n",
      "\t- AMS\n",
      "\t- DUB\n",
      "\t- FAO\n",
      "\t- FCO\n"
     ]
    }
   ],
   "source": [
    "iata_codes = list(set(\n",
    "    ryanair_cleaned[\n",
    "        # Less than 5 letters.\n",
    "        (ryanair_cleaned.origin.str.len() <= 4) &\n",
    "        # Upper case.\n",
    "        (ryanair_cleaned.origin.str.isupper())\n",
    "    ]\n",
    "    ['origin'].to_list()\n",
    "))\n",
    "print(f\"There are {len(iata_codes)} IATA code(s) (origin).\")\n",
    "print('For instance:')\n",
    "for elem in iata_codes[:5]:\n",
    "    print(f'\\t- {elem}')"
   ]
  },
  {
   "cell_type": "code",
   "execution_count": 141,
   "metadata": {},
   "outputs": [],
   "source": [
    "'''\n",
    "Additional dataset.\n",
    "'''\n",
    "# Data provided by: http://www.apinfo.ru/airports/export.html\n",
    "url = 'https://drive.google.com/file/d/1artn-eO0wCKu_WQs-ryaWr6bpfmG4qIv/view?usp=sharing'\n",
    "path = 'https://drive.google.com/uc?export=download&id='+url.split('/')[-2]\n",
    "iata_df = pd.read_csv(path, sep = '|', encoding='latin-1')"
   ]
  },
  {
   "cell_type": "code",
   "execution_count": 142,
   "metadata": {},
   "outputs": [],
   "source": [
    "def fix_name(col, name):\n",
    "    '''\n",
    "    Search for the airport's name containing\n",
    "    the stated one ('name') and rename it\n",
    "    (we search for 'Stansted' ->\n",
    "    we rename 'London, Stansted' as 'Stansted').\n",
    "    Connecting flights are not renamed\n",
    "    ('Gothenburg via Stansted').\n",
    "    Args:\n",
    "        col (str): 'destination' or 'origin'\n",
    "        name (str): airport's name to be used\n",
    "    '''\n",
    "    \n",
    "    not_na = ~ryanair_cleaned[col].isna()\n",
    "    contains_name = not_na & (ryanair_cleaned[col].str.contains(name))\n",
    "    connecting_flight = not_na & ryanair_cleaned[col].str.contains(' via ')\n",
    "\n",
    "    condition = contains_name & ~connecting_flight\n",
    "    \n",
    "    if ryanair_cleaned.loc[condition][col].nunique() > 1:\n",
    "        print(f'Duplicates for {name} in {col}:')\n",
    "        display(ryanair_cleaned.loc[condition][col].unique())\n",
    "\n",
    "        print('Fixing the duplicates.')\n",
    "        ryanair_cleaned.loc[condition, col] = name\n",
    "        print('Checking:')\n",
    "        display(ryanair_cleaned.loc[condition][col].unique())\n",
    "        print()\n",
    "    \n",
    "    \n",
    "def fix_iata(col, iata, name):\n",
    "    '''\n",
    "    Rename airport referred by IATA code.\n",
    "    Args:\n",
    "        col (str): 'destination' or 'origin'\n",
    "        iata (str): IATA code to be replaced\n",
    "        name (str): airport's name to be used\n",
    "    Notes:\n",
    "        Fix duplicates with fix_name()\n",
    "    '''\n",
    "    ryanair_cleaned[col] = ryanair_cleaned[col].str.replace(iata, name)"
   ]
  },
  {
   "cell_type": "code",
   "execution_count": 143,
   "metadata": {},
   "outputs": [
    {
     "name": "stdout",
     "output_type": "stream",
     "text": [
      "STN -> London\n",
      "Duplicates for Stansted in origin:\n"
     ]
    },
    {
     "data": {
      "text/plain": [
       "array(['Stansted', 'London Stansted', 'London Stansted ', 'Stansted Uk'],\n",
       "      dtype=object)"
      ]
     },
     "metadata": {},
     "output_type": "display_data"
    },
    {
     "name": "stdout",
     "output_type": "stream",
     "text": [
      "Fixing the duplicates.\n",
      "Checking:\n"
     ]
    },
    {
     "data": {
      "text/plain": [
       "array(['Stansted'], dtype=object)"
      ]
     },
     "metadata": {},
     "output_type": "display_data"
    },
    {
     "name": "stdout",
     "output_type": "stream",
     "text": [
      "\n",
      "Duplicates for London in origin:\n"
     ]
    },
    {
     "data": {
      "text/plain": [
       "array(['London', 'London Luton', 'London Gatwick', 'London Stamsted',\n",
       "       'London Stanstead'], dtype=object)"
      ]
     },
     "metadata": {},
     "output_type": "display_data"
    },
    {
     "name": "stdout",
     "output_type": "stream",
     "text": [
      "Fixing the duplicates.\n",
      "Checking:\n"
     ]
    },
    {
     "data": {
      "text/plain": [
       "array(['London'], dtype=object)"
      ]
     },
     "metadata": {},
     "output_type": "display_data"
    },
    {
     "name": "stdout",
     "output_type": "stream",
     "text": [
      "\n",
      "origin: Stansted -> London\n",
      "LTN -> London\n",
      "origin: Luton -> London\n",
      "LGW -> London\n",
      "origin: Gatwick -> London\n",
      "\n",
      "STN -> London\n",
      "Duplicates for Stansted in destination:\n"
     ]
    },
    {
     "data": {
      "text/plain": [
       "array(['Stansted', 'London Stansted', 'London Stansted ',\n",
       "       'Stansted London '], dtype=object)"
      ]
     },
     "metadata": {},
     "output_type": "display_data"
    },
    {
     "name": "stdout",
     "output_type": "stream",
     "text": [
      "Fixing the duplicates.\n",
      "Checking:\n"
     ]
    },
    {
     "data": {
      "text/plain": [
       "array(['Stansted'], dtype=object)"
      ]
     },
     "metadata": {},
     "output_type": "display_data"
    },
    {
     "name": "stdout",
     "output_type": "stream",
     "text": [
      "\n",
      "Duplicates for London in destination:\n"
     ]
    },
    {
     "data": {
      "text/plain": [
       "array(['London Gatwick', 'London', 'London Southend', 'London Luton'],\n",
       "      dtype=object)"
      ]
     },
     "metadata": {},
     "output_type": "display_data"
    },
    {
     "name": "stdout",
     "output_type": "stream",
     "text": [
      "Fixing the duplicates.\n",
      "Checking:\n"
     ]
    },
    {
     "data": {
      "text/plain": [
       "array(['London'], dtype=object)"
      ]
     },
     "metadata": {},
     "output_type": "display_data"
    },
    {
     "name": "stdout",
     "output_type": "stream",
     "text": [
      "\n",
      "destination: Stansted -> London\n",
      "LTN -> London\n",
      "destination: Luton -> London\n",
      "LGW -> London\n",
      "destination: Gatwick -> London\n",
      "\n"
     ]
    }
   ],
   "source": [
    "'''\n",
    "London.\n",
    "'''\n",
    "london_airports = [\n",
    "    ['STN', 'Stansted', 'London'],\n",
    "    ['LTN', 'Luton', 'London'],\n",
    "    ['LGW', 'Gatwick', 'London']\n",
    "]\n",
    "\n",
    "for col in 'origin', 'destination':\n",
    "    for _ in london_airports:\n",
    "        iata = _[0]\n",
    "        airport = _[1]\n",
    "        city = _[2]\n",
    "        print(f'{iata} -> {city}')\n",
    "        # Rename airport referred by IATA code.\n",
    "        fix_iata(col, iata=iata, name=airport)\n",
    "        # Search for the airport's name containing\n",
    "        # the stated one and rewrite the cell's value.\n",
    "        # (we search for 'Stansted' ->\n",
    "        # we rename 'London, Stansted' as 'Stansted').\n",
    "        fix_name(col, name=airport)\n",
    "        fix_name(col, name=city)\n",
    "        # Stansted -> London.\n",
    "        ryanair_cleaned.loc[ryanair_cleaned[col] == airport, col] = city\n",
    "        print(f'{col}: {airport} -> {city}')\n",
    "    print()"
   ]
  },
  {
   "cell_type": "code",
   "execution_count": 144,
   "metadata": {},
   "outputs": [
    {
     "name": "stdout",
     "output_type": "stream",
     "text": [
      "TSF -> Treviso (destination)\n",
      "Duplicates for Treviso in destination:\n"
     ]
    },
    {
     "data": {
      "text/plain": [
       "array(['Treviso', 'Venice Treviso'], dtype=object)"
      ]
     },
     "metadata": {},
     "output_type": "display_data"
    },
    {
     "name": "stdout",
     "output_type": "stream",
     "text": [
      "Fixing the duplicates.\n",
      "Checking:\n"
     ]
    },
    {
     "data": {
      "text/plain": [
       "array(['Treviso'], dtype=object)"
      ]
     },
     "metadata": {},
     "output_type": "display_data"
    },
    {
     "name": "stdout",
     "output_type": "stream",
     "text": [
      "\n",
      "DUB -> Dublin (destination)\n",
      "NRN -> Dusseldorf (destination)\n",
      "JTR -> Santorini (Thira) (destination)\n",
      "VNO -> Vilnius (destination)\n",
      "LPL -> Liverpool (destination)\n",
      "PSA -> Pisa (destination)\n",
      "Duplicates for Pisa in origin:\n"
     ]
    },
    {
     "name": "stderr",
     "output_type": "stream",
     "text": [
      "C:\\Users\\matas\\AppData\\Local\\Temp\\ipykernel_9412\\2814723520.py:15: UserWarning: This pattern is interpreted as a regular expression, and has match groups. To actually get the groups, use str.extract.\n",
      "  contains_name = not_na & (ryanair_cleaned[col].str.contains(name))\n"
     ]
    },
    {
     "data": {
      "text/plain": [
       "array(['Pisa', 'Perugia Pisa'], dtype=object)"
      ]
     },
     "metadata": {},
     "output_type": "display_data"
    },
    {
     "name": "stdout",
     "output_type": "stream",
     "text": [
      "Fixing the duplicates.\n",
      "Checking:\n"
     ]
    },
    {
     "data": {
      "text/plain": [
       "array(['Pisa'], dtype=object)"
      ]
     },
     "metadata": {},
     "output_type": "display_data"
    },
    {
     "name": "stdout",
     "output_type": "stream",
     "text": [
      "\n",
      "BRU -> Brussels (destination)\n",
      "Duplicates for Brussels in origin:\n"
     ]
    },
    {
     "data": {
      "text/plain": [
       "array(['Brussels Charleroi', 'Brussels'], dtype=object)"
      ]
     },
     "metadata": {},
     "output_type": "display_data"
    },
    {
     "name": "stdout",
     "output_type": "stream",
     "text": [
      "Fixing the duplicates.\n",
      "Checking:\n"
     ]
    },
    {
     "data": {
      "text/plain": [
       "array(['Brussels'], dtype=object)"
      ]
     },
     "metadata": {},
     "output_type": "display_data"
    },
    {
     "name": "stdout",
     "output_type": "stream",
     "text": [
      "\n",
      "Duplicates for Brussels in destination:\n"
     ]
    },
    {
     "data": {
      "text/plain": [
       "array(['Brussels', 'Brussels South', 'Brussels Charleroi', 'Brussels CRL'],\n",
       "      dtype=object)"
      ]
     },
     "metadata": {},
     "output_type": "display_data"
    },
    {
     "name": "stdout",
     "output_type": "stream",
     "text": [
      "Fixing the duplicates.\n",
      "Checking:\n"
     ]
    },
    {
     "data": {
      "text/plain": [
       "array(['Brussels'], dtype=object)"
      ]
     },
     "metadata": {},
     "output_type": "display_data"
    },
    {
     "name": "stdout",
     "output_type": "stream",
     "text": [
      "\n",
      "WRO -> Wroclaw (destination)\n",
      "PUY -> Pula (destination)\n",
      "OPO -> Porto (destination)\n",
      "HHN -> Hahn (destination)\n",
      "Duplicates for Hahn in origin:\n"
     ]
    },
    {
     "data": {
      "text/plain": [
       "array(['Hahn', 'Frankfurt Hahn'], dtype=object)"
      ]
     },
     "metadata": {},
     "output_type": "display_data"
    },
    {
     "name": "stdout",
     "output_type": "stream",
     "text": [
      "Fixing the duplicates.\n",
      "Checking:\n"
     ]
    },
    {
     "data": {
      "text/plain": [
       "array(['Hahn'], dtype=object)"
      ]
     },
     "metadata": {},
     "output_type": "display_data"
    },
    {
     "name": "stdout",
     "output_type": "stream",
     "text": [
      "\n",
      "Duplicates for Hahn in destination:\n"
     ]
    },
    {
     "data": {
      "text/plain": [
       "array(['Frankfurt Hahn', 'Hahn'], dtype=object)"
      ]
     },
     "metadata": {},
     "output_type": "display_data"
    },
    {
     "name": "stdout",
     "output_type": "stream",
     "text": [
      "Fixing the duplicates.\n",
      "Checking:\n"
     ]
    },
    {
     "data": {
      "text/plain": [
       "array(['Hahn'], dtype=object)"
      ]
     },
     "metadata": {},
     "output_type": "display_data"
    },
    {
     "name": "stdout",
     "output_type": "stream",
     "text": [
      "\n",
      "ZAZ -> Zaragoza (destination)\n",
      "PRG -> Prague (destination)\n",
      "PMO -> Palermo (destination)\n",
      "JMK -> Mikonos (destination)\n",
      "GRO -> Gerona (destination)\n",
      "TFS -> Tenerife (destination)\n",
      "Duplicates for Tenerife in origin:\n"
     ]
    },
    {
     "data": {
      "text/plain": [
       "array(['Tenerife', 'Tenerife South'], dtype=object)"
      ]
     },
     "metadata": {},
     "output_type": "display_data"
    },
    {
     "name": "stdout",
     "output_type": "stream",
     "text": [
      "Fixing the duplicates.\n",
      "Checking:\n"
     ]
    },
    {
     "data": {
      "text/plain": [
       "array(['Tenerife'], dtype=object)"
      ]
     },
     "metadata": {},
     "output_type": "display_data"
    },
    {
     "name": "stdout",
     "output_type": "stream",
     "text": [
      "\n",
      "Duplicates for Tenerife in destination:\n"
     ]
    },
    {
     "data": {
      "text/plain": [
       "array(['Tenerife', 'Tenerife South', 'Tenerife south'], dtype=object)"
      ]
     },
     "metadata": {},
     "output_type": "display_data"
    },
    {
     "name": "stdout",
     "output_type": "stream",
     "text": [
      "Fixing the duplicates.\n",
      "Checking:\n"
     ]
    },
    {
     "data": {
      "text/plain": [
       "array(['Tenerife'], dtype=object)"
      ]
     },
     "metadata": {},
     "output_type": "display_data"
    },
    {
     "name": "stdout",
     "output_type": "stream",
     "text": [
      "\n",
      "BRS -> Bristol (destination)\n",
      "Duplicates for Bristol in destination:\n"
     ]
    },
    {
     "data": {
      "text/plain": [
       "array(['Bristol UK', 'Bristol'], dtype=object)"
      ]
     },
     "metadata": {},
     "output_type": "display_data"
    },
    {
     "name": "stdout",
     "output_type": "stream",
     "text": [
      "Fixing the duplicates.\n",
      "Checking:\n"
     ]
    },
    {
     "data": {
      "text/plain": [
       "array(['Bristol'], dtype=object)"
      ]
     },
     "metadata": {},
     "output_type": "display_data"
    },
    {
     "name": "stdout",
     "output_type": "stream",
     "text": [
      "\n",
      "LIG -> Limoges (destination)\n",
      "MJV -> Murcia (destination)\n",
      "OTP -> Bucharest (destination)\n",
      "Duplicates for Bucharest in origin:\n"
     ]
    },
    {
     "data": {
      "text/plain": [
       "array(['Bucharest', 'Bucharest Otopeni'], dtype=object)"
      ]
     },
     "metadata": {},
     "output_type": "display_data"
    },
    {
     "name": "stdout",
     "output_type": "stream",
     "text": [
      "Fixing the duplicates.\n",
      "Checking:\n"
     ]
    },
    {
     "data": {
      "text/plain": [
       "array(['Bucharest'], dtype=object)"
      ]
     },
     "metadata": {},
     "output_type": "display_data"
    },
    {
     "name": "stdout",
     "output_type": "stream",
     "text": [
      "\n",
      "MAN -> Manchester (destination)\n",
      "AGP -> Malaga (destination)\n",
      "FEZ -> Fez (destination)\n",
      "TNG -> Tangier (destination)\n",
      "CRL -> Brussels (destination)\n",
      "PIK -> Prestwick, South Ayrshire (destination)\n",
      "EMA -> Derby (destination)\n",
      "FKB -> Karlsruhe/Baden Baden (destination)\n",
      "LIS -> Lisbon (destination)\n",
      "Duplicates for Lisbon in destination:\n"
     ]
    },
    {
     "data": {
      "text/plain": [
       "array(['Lisbon', 'Lisbon Portugal'], dtype=object)"
      ]
     },
     "metadata": {},
     "output_type": "display_data"
    },
    {
     "name": "stdout",
     "output_type": "stream",
     "text": [
      "Fixing the duplicates.\n",
      "Checking:\n"
     ]
    },
    {
     "data": {
      "text/plain": [
       "array(['Lisbon'], dtype=object)"
      ]
     },
     "metadata": {},
     "output_type": "display_data"
    },
    {
     "name": "stdout",
     "output_type": "stream",
     "text": [
      "\n",
      "BLQ -> Bologna (destination)\n",
      "Duplicates for Bologna in destination:\n"
     ]
    },
    {
     "data": {
      "text/plain": [
       "array(['Bologna', 'Bologna Italy'], dtype=object)"
      ]
     },
     "metadata": {},
     "output_type": "display_data"
    },
    {
     "name": "stdout",
     "output_type": "stream",
     "text": [
      "Fixing the duplicates.\n",
      "Checking:\n"
     ]
    },
    {
     "data": {
      "text/plain": [
       "array(['Bologna'], dtype=object)"
      ]
     },
     "metadata": {},
     "output_type": "display_data"
    },
    {
     "name": "stdout",
     "output_type": "stream",
     "text": [
      "\n",
      "BHX -> Birmingham (destination)\n",
      "AHO -> Alghero (destination)\n",
      "RHO -> Rhodes (destination)\n",
      "HAM -> Hamburg (destination)\n",
      "GOT -> Gothenburg (destination)\n",
      "PDL -> Ponta Delgada (destination)\n",
      "CIA -> Rome (destination)\n",
      "Duplicates for Rome in origin:\n"
     ]
    },
    {
     "data": {
      "text/plain": [
       "array(['Rome Fiumicino', 'Rome', 'Ciampino Rome', 'Rome Ciampino',\n",
       "       'from Rome Rome '], dtype=object)"
      ]
     },
     "metadata": {},
     "output_type": "display_data"
    },
    {
     "name": "stdout",
     "output_type": "stream",
     "text": [
      "Fixing the duplicates.\n",
      "Checking:\n"
     ]
    },
    {
     "data": {
      "text/plain": [
       "array(['Rome'], dtype=object)"
      ]
     },
     "metadata": {},
     "output_type": "display_data"
    },
    {
     "name": "stdout",
     "output_type": "stream",
     "text": [
      "\n",
      "Duplicates for Rome in destination:\n"
     ]
    },
    {
     "data": {
      "text/plain": [
       "array(['Rome', 'Rome Ciampino', 'Rome Ciampnio'], dtype=object)"
      ]
     },
     "metadata": {},
     "output_type": "display_data"
    },
    {
     "name": "stdout",
     "output_type": "stream",
     "text": [
      "Fixing the duplicates.\n",
      "Checking:\n"
     ]
    },
    {
     "data": {
      "text/plain": [
       "array(['Rome'], dtype=object)"
      ]
     },
     "metadata": {},
     "output_type": "display_data"
    },
    {
     "name": "stdout",
     "output_type": "stream",
     "text": [
      "\n",
      "BCN -> Barcelona (destination)\n",
      "Duplicates for Barcelona in destination:\n"
     ]
    },
    {
     "data": {
      "text/plain": [
       "array(['Barcelona', 'Barcelona Reus', 'Barcelona El Prat'], dtype=object)"
      ]
     },
     "metadata": {},
     "output_type": "display_data"
    },
    {
     "name": "stdout",
     "output_type": "stream",
     "text": [
      "Fixing the duplicates.\n",
      "Checking:\n"
     ]
    },
    {
     "data": {
      "text/plain": [
       "array(['Barcelona'], dtype=object)"
      ]
     },
     "metadata": {},
     "output_type": "display_data"
    },
    {
     "name": "stdout",
     "output_type": "stream",
     "text": [
      "\n",
      "SNN -> Shannon (destination)\n",
      "LPA -> Las Palmas (destination)\n",
      "BSL -> Mulhouse/basel (destination)\n",
      "CGN -> Cologne (destination)\n",
      "Duplicates for Cologne in origin:\n"
     ]
    },
    {
     "data": {
      "text/plain": [
       "array(['Cologne', 'Cologne Bonn'], dtype=object)"
      ]
     },
     "metadata": {},
     "output_type": "display_data"
    },
    {
     "name": "stdout",
     "output_type": "stream",
     "text": [
      "Fixing the duplicates.\n",
      "Checking:\n"
     ]
    },
    {
     "data": {
      "text/plain": [
       "array(['Cologne'], dtype=object)"
      ]
     },
     "metadata": {},
     "output_type": "display_data"
    },
    {
     "name": "stdout",
     "output_type": "stream",
     "text": [
      "\n",
      "Duplicates for Cologne in destination:\n"
     ]
    },
    {
     "data": {
      "text/plain": [
       "array(['Cologne', 'Cologne Bonn'], dtype=object)"
      ]
     },
     "metadata": {},
     "output_type": "display_data"
    },
    {
     "name": "stdout",
     "output_type": "stream",
     "text": [
      "Fixing the duplicates.\n",
      "Checking:\n"
     ]
    },
    {
     "data": {
      "text/plain": [
       "array(['Cologne'], dtype=object)"
      ]
     },
     "metadata": {},
     "output_type": "display_data"
    },
    {
     "name": "stdout",
     "output_type": "stream",
     "text": [
      "\n",
      "BVA -> Paris (destination)\n",
      "Duplicates for Paris in origin:\n"
     ]
    },
    {
     "data": {
      "text/plain": [
       "array(['Paris Beauvais', 'Paris'], dtype=object)"
      ]
     },
     "metadata": {},
     "output_type": "display_data"
    },
    {
     "name": "stdout",
     "output_type": "stream",
     "text": [
      "Fixing the duplicates.\n",
      "Checking:\n"
     ]
    },
    {
     "data": {
      "text/plain": [
       "array(['Paris'], dtype=object)"
      ]
     },
     "metadata": {},
     "output_type": "display_data"
    },
    {
     "name": "stdout",
     "output_type": "stream",
     "text": [
      "\n",
      "Duplicates for Paris in destination:\n"
     ]
    },
    {
     "data": {
      "text/plain": [
       "array(['Paris Beauvais', 'Paris'], dtype=object)"
      ]
     },
     "metadata": {},
     "output_type": "display_data"
    },
    {
     "name": "stdout",
     "output_type": "stream",
     "text": [
      "Fixing the duplicates.\n",
      "Checking:\n"
     ]
    },
    {
     "data": {
      "text/plain": [
       "array(['Paris'], dtype=object)"
      ]
     },
     "metadata": {},
     "output_type": "display_data"
    },
    {
     "name": "stdout",
     "output_type": "stream",
     "text": [
      "\n",
      "ATH -> Athens (destination)\n",
      "RAK -> Marrakech (destination)\n",
      "BUD -> Budapest (destination)\n",
      "MXP -> Milan (destination)\n",
      "Duplicates for Milan in origin:\n"
     ]
    },
    {
     "data": {
      "text/plain": [
       "array(['Milan', 'Milan Bergamo', 'Milano', 'Milano Malpensa'],\n",
       "      dtype=object)"
      ]
     },
     "metadata": {},
     "output_type": "display_data"
    },
    {
     "name": "stdout",
     "output_type": "stream",
     "text": [
      "Fixing the duplicates.\n",
      "Checking:\n"
     ]
    },
    {
     "data": {
      "text/plain": [
       "array(['Milan'], dtype=object)"
      ]
     },
     "metadata": {},
     "output_type": "display_data"
    },
    {
     "name": "stdout",
     "output_type": "stream",
     "text": [
      "\n",
      "Duplicates for Milan in destination:\n"
     ]
    },
    {
     "data": {
      "text/plain": [
       "array(['Milan', 'Milan Bergamo', 'Milan Linate ', 'Milano Bergamo',\n",
       "       'Milano'], dtype=object)"
      ]
     },
     "metadata": {},
     "output_type": "display_data"
    },
    {
     "name": "stdout",
     "output_type": "stream",
     "text": [
      "Fixing the duplicates.\n",
      "Checking:\n"
     ]
    },
    {
     "data": {
      "text/plain": [
       "array(['Milan'], dtype=object)"
      ]
     },
     "metadata": {},
     "output_type": "display_data"
    },
    {
     "name": "stdout",
     "output_type": "stream",
     "text": [
      "\n",
      "FCO -> Rome (destination)\n",
      "SXF -> Berlin (destination)\n",
      "Duplicates for Berlin in origin:\n"
     ]
    },
    {
     "data": {
      "text/plain": [
       "array(['Berlin', 'Berlin TXL'], dtype=object)"
      ]
     },
     "metadata": {},
     "output_type": "display_data"
    },
    {
     "name": "stdout",
     "output_type": "stream",
     "text": [
      "Fixing the duplicates.\n",
      "Checking:\n"
     ]
    },
    {
     "data": {
      "text/plain": [
       "array(['Berlin'], dtype=object)"
      ]
     },
     "metadata": {},
     "output_type": "display_data"
    },
    {
     "name": "stdout",
     "output_type": "stream",
     "text": [
      "\n",
      "Duplicates for Berlin in destination:\n"
     ]
    },
    {
     "data": {
      "text/plain": [
       "array(['Berlin', 'Berlin Schonefeld'], dtype=object)"
      ]
     },
     "metadata": {},
     "output_type": "display_data"
    },
    {
     "name": "stdout",
     "output_type": "stream",
     "text": [
      "Fixing the duplicates.\n",
      "Checking:\n"
     ]
    },
    {
     "data": {
      "text/plain": [
       "array(['Berlin'], dtype=object)"
      ]
     },
     "metadata": {},
     "output_type": "display_data"
    },
    {
     "name": "stdout",
     "output_type": "stream",
     "text": [
      "\n",
      "CPH -> Copenhagen (destination)\n",
      "POZ -> Poznan (destination)\n",
      "TLL -> Tallinn (destination)\n",
      "BTS -> Bratislava (destination)\n",
      "CRK -> Angeles City (destination)\n",
      "SVQ -> Sevilla (destination)\n",
      "PMI -> Palma Mallorca (destination)\n",
      "NYO -> Stockholm (destination)\n",
      "Duplicates for Stockholm in destination:\n"
     ]
    },
    {
     "data": {
      "text/plain": [
       "array(['Stockholm', 'Stockholm Arlanda', 'Stockholm Skavsta'],\n",
       "      dtype=object)"
      ]
     },
     "metadata": {},
     "output_type": "display_data"
    },
    {
     "name": "stdout",
     "output_type": "stream",
     "text": [
      "Fixing the duplicates.\n",
      "Checking:\n"
     ]
    },
    {
     "data": {
      "text/plain": [
       "array(['Stockholm'], dtype=object)"
      ]
     },
     "metadata": {},
     "output_type": "display_data"
    },
    {
     "name": "stdout",
     "output_type": "stream",
     "text": [
      "\n",
      "WAW -> Warsaw (destination)\n",
      "Duplicates for Warsaw in origin:\n"
     ]
    },
    {
     "data": {
      "text/plain": [
       "array(['Warsaw', 'Warsaw Modlin'], dtype=object)"
      ]
     },
     "metadata": {},
     "output_type": "display_data"
    },
    {
     "name": "stdout",
     "output_type": "stream",
     "text": [
      "Fixing the duplicates.\n",
      "Checking:\n"
     ]
    },
    {
     "data": {
      "text/plain": [
       "array(['Warsaw'], dtype=object)"
      ]
     },
     "metadata": {},
     "output_type": "display_data"
    },
    {
     "name": "stdout",
     "output_type": "stream",
     "text": [
      "\n",
      "Duplicates for Warsaw in destination:\n"
     ]
    },
    {
     "data": {
      "text/plain": [
       "array(['Warsaw', 'Warsaw Modlin'], dtype=object)"
      ]
     },
     "metadata": {},
     "output_type": "display_data"
    },
    {
     "name": "stdout",
     "output_type": "stream",
     "text": [
      "Fixing the duplicates.\n",
      "Checking:\n"
     ]
    },
    {
     "data": {
      "text/plain": [
       "array(['Warsaw'], dtype=object)"
      ]
     },
     "metadata": {},
     "output_type": "display_data"
    },
    {
     "name": "stdout",
     "output_type": "stream",
     "text": [
      "\n",
      "GLA -> Glasgow (destination)\n",
      "Duplicates for Glasgow in origin:\n"
     ]
    },
    {
     "data": {
      "text/plain": [
       "array(['Glasgow', 'Glasgow Prestwick'], dtype=object)"
      ]
     },
     "metadata": {},
     "output_type": "display_data"
    },
    {
     "name": "stdout",
     "output_type": "stream",
     "text": [
      "Fixing the duplicates.\n",
      "Checking:\n"
     ]
    },
    {
     "data": {
      "text/plain": [
       "array(['Glasgow'], dtype=object)"
      ]
     },
     "metadata": {},
     "output_type": "display_data"
    },
    {
     "name": "stdout",
     "output_type": "stream",
     "text": [
      "\n",
      "Duplicates for Glasgow in destination:\n"
     ]
    },
    {
     "data": {
      "text/plain": [
       "array(['Glasgow', 'Glasgow Prestwick'], dtype=object)"
      ]
     },
     "metadata": {},
     "output_type": "display_data"
    },
    {
     "name": "stdout",
     "output_type": "stream",
     "text": [
      "Fixing the duplicates.\n",
      "Checking:\n"
     ]
    },
    {
     "data": {
      "text/plain": [
       "array(['Glasgow'], dtype=object)"
      ]
     },
     "metadata": {},
     "output_type": "display_data"
    },
    {
     "name": "stdout",
     "output_type": "stream",
     "text": [
      "\n",
      "TXL -> Berlin (destination)\n",
      "ALC -> Alicante (destination)\n",
      "VRN -> Verona (destination)\n",
      "BLL -> Billund (destination)\n",
      "BFS -> Belfast (destination)\n",
      "FAO -> Faro (destination)\n",
      "Duplicates for Faro in destination:\n"
     ]
    },
    {
     "data": {
      "text/plain": [
       "array(['Faro', 'Faro Portugal'], dtype=object)"
      ]
     },
     "metadata": {},
     "output_type": "display_data"
    },
    {
     "name": "stdout",
     "output_type": "stream",
     "text": [
      "Fixing the duplicates.\n",
      "Checking:\n"
     ]
    },
    {
     "data": {
      "text/plain": [
       "array(['Faro'], dtype=object)"
      ]
     },
     "metadata": {},
     "output_type": "display_data"
    },
    {
     "name": "stdout",
     "output_type": "stream",
     "text": [
      "\n",
      "BOH -> Bournemouth (destination)\n",
      "EDI -> Edinburgh (destination)\n",
      "FNI -> Nimes (destination)\n",
      "CHP -> Circle Hot Springs (destination)\n",
      "VLG -> Villa Gesell (destination)\n",
      "SDR -> Santander (destination)\n",
      "ORK -> Cork (destination)\n",
      "LBA -> Leeds (destination)\n",
      "Duplicates for Leeds in origin:\n"
     ]
    },
    {
     "data": {
      "text/plain": [
       "array(['Leeds', 'Leeds Bradford', 'Leeds bradford'], dtype=object)"
      ]
     },
     "metadata": {},
     "output_type": "display_data"
    },
    {
     "name": "stdout",
     "output_type": "stream",
     "text": [
      "Fixing the duplicates.\n",
      "Checking:\n"
     ]
    },
    {
     "data": {
      "text/plain": [
       "array(['Leeds'], dtype=object)"
      ]
     },
     "metadata": {},
     "output_type": "display_data"
    },
    {
     "name": "stdout",
     "output_type": "stream",
     "text": [
      "\n",
      "Duplicates for Leeds in destination:\n"
     ]
    },
    {
     "data": {
      "text/plain": [
       "array(['Leeds', 'Leeds Bradford'], dtype=object)"
      ]
     },
     "metadata": {},
     "output_type": "display_data"
    },
    {
     "name": "stdout",
     "output_type": "stream",
     "text": [
      "Fixing the duplicates.\n",
      "Checking:\n"
     ]
    },
    {
     "data": {
      "text/plain": [
       "array(['Leeds'], dtype=object)"
      ]
     },
     "metadata": {},
     "output_type": "display_data"
    },
    {
     "name": "stdout",
     "output_type": "stream",
     "text": [
      "\n",
      "ACE -> Arrecife (destination)\n",
      "EGC -> Bergerac (destination)\n",
      "FUE -> Puerto del Rosario (destination)\n",
      "XRY -> Jerez De La Frontera (destination)\n",
      "BRE -> Bremen (destination)\n",
      "BGY -> Bergamo (destination)\n",
      "Duplicates for Bergamo in destination:\n"
     ]
    },
    {
     "data": {
      "text/plain": [
       "array(['Bergamo', 'Bergamo Italy'], dtype=object)"
      ]
     },
     "metadata": {},
     "output_type": "display_data"
    },
    {
     "name": "stdout",
     "output_type": "stream",
     "text": [
      "Fixing the duplicates.\n",
      "Checking:\n"
     ]
    },
    {
     "data": {
      "text/plain": [
       "array(['Bergamo'], dtype=object)"
      ]
     },
     "metadata": {},
     "output_type": "display_data"
    },
    {
     "name": "stdout",
     "output_type": "stream",
     "text": [
      "\n",
      "MAD -> Madrid (destination)\n",
      "KUN -> Kaunas (destination)\n",
      "SKG -> Thessaloniki (destination)\n",
      "CHQ -> Chania (destination)\n",
      "Duplicates for Chania in origin:\n"
     ]
    },
    {
     "data": {
      "text/plain": [
       "array(['Chania', 'Crete Chania '], dtype=object)"
      ]
     },
     "metadata": {},
     "output_type": "display_data"
    },
    {
     "name": "stdout",
     "output_type": "stream",
     "text": [
      "Fixing the duplicates.\n",
      "Checking:\n"
     ]
    },
    {
     "data": {
      "text/plain": [
       "array(['Chania'], dtype=object)"
      ]
     },
     "metadata": {},
     "output_type": "display_data"
    },
    {
     "name": "stdout",
     "output_type": "stream",
     "text": [
      "\n",
      "MLA -> Gudja (destination)\n",
      "IBZ -> Ibiza (destination)\n",
      "AMS -> Amsterdam (destination)\n"
     ]
    }
   ],
   "source": [
    "'''\n",
    "Other cities.\n",
    "'''\n",
    "# I prepared this list of IATA codes used in the dataset.\n",
    "iata_list = ['TSF', 'DUB', 'NRN', 'JTR', 'VNO',\n",
    "             'LPL', 'PSA', 'BRU', 'WRO', 'PUY',\n",
    "             'OPO', 'HHN', 'ZAZ', 'PRG', 'PMO',\n",
    "             'JMK', 'GRO', 'TFS', 'BRS', 'LIG',\n",
    "             'MJV', 'OTP', 'MAN', 'AGP', 'FEZ',\n",
    "             'TNG', 'CRL', 'PIK', 'EMA', 'FKB',\n",
    "             'LIS', 'BLQ', 'BHX', 'AHO', 'RHO',\n",
    "             'HAM', 'GOT', 'PDL', 'CIA', 'BCN',\n",
    "             'SNN', 'LPA', 'BSL', 'CGN', 'BVA',\n",
    "             'ATH', 'RAK', 'BUD', 'MXP', 'FCO',\n",
    "             'SXF', 'CPH', 'POZ', 'TLL', 'BTS',\n",
    "             'CRK', 'SVQ', 'PMI', 'NYO', 'WAW',\n",
    "             'GLA', 'TXL', 'ALC', 'VRN', 'BLL', 'BFS', 'FAO',\n",
    "             'BOH', 'EDI', 'FNI', 'CHP', 'VLG', 'SDR', 'ORK',\n",
    "             'LBA', 'ACE', 'EGC', 'FUE', 'XRY', 'BRE', 'BGY',\n",
    "             'MAD', 'KUN', 'SKG', 'CHQ', 'MLA', 'IBZ', 'AMS']\n",
    "\n",
    "# Iterate through the list of IATA codes.\n",
    "for iata in iata_list:\n",
    "    # Borrow city's name from external dataset.\n",
    "    city = (\n",
    "        iata_df\n",
    "        .loc[\n",
    "            iata_df['iata_code'] == iata\n",
    "    ]\n",
    "        ['city_eng'].values[0]\n",
    "    )\n",
    "\n",
    "    print(f'{iata} -> {city} ({col})')\n",
    "    \n",
    "    for col in 'origin', 'destination':\n",
    "    \n",
    "        # Rename airport referred by IATA code.\n",
    "        fix_iata(col, iata=iata, name=city)\n",
    "\n",
    "        # Search for the airport's name containing\n",
    "        # the stated one and rewrite the cell's value.\n",
    "        # (we search for 'Stansted' ->\n",
    "        # we rename 'London, Stansted' as 'Stansted').\n",
    "        fix_name(col, name=city)"
   ]
  },
  {
   "cell_type": "code",
   "execution_count": 145,
   "metadata": {},
   "outputs": [],
   "source": [
    "import fuzzywuzzy\n",
    "from fuzzywuzzy import fuzz\n",
    "from fuzzywuzzy import process"
   ]
  },
  {
   "cell_type": "code",
   "execution_count": 146,
   "metadata": {},
   "outputs": [
    {
     "name": "stdout",
     "output_type": "stream",
     "text": [
      "========== Examples ==========\n",
      "\n",
      "'London, Stanstred' and 'Stansted'\n",
      "\tPartial ratio: 88\n",
      "\tRatio: 64\n",
      "\n",
      "'Wrowclaw' and 'Wroclaw'\n",
      "\tPartial ratio: 86\n",
      "\tRatio: 93\n",
      "\n",
      "'Barcelona' and 'Barcelone'\n",
      "\tPartial ratio: 89\n",
      "\tRatio: 89\n",
      "\n",
      "'Prestwick, South Ayrshire' and 'Glasgow, Prestwick'\n",
      "\tPartial ratio: 50\n",
      "\tRatio: 42\n",
      "\n",
      "'Prestwick' and 'Glasgow, Prestwick'\n",
      "\tPartial ratio: 100\n",
      "\tRatio: 67\n",
      "\n",
      "'Gasglow' and 'Glasgow'\n",
      "\tPartial ratio: 86\n",
      "\tRatio: 86\n",
      "\n",
      "'Londonderry' and 'Derry'\n",
      "\tPartial ratio: 100\n",
      "\tRatio: 62\n",
      "\n",
      "'Kyiv' and 'Kiev'\n",
      "\tPartial ratio: 75\n",
      "\tRatio: 75\n",
      "\n",
      "'Sophia' and 'Sofia'\n",
      "\tPartial ratio: 60\n",
      "\tRatio: 73\n",
      "\n",
      "'Tangier' and 'Santander'\n",
      "\tPartial ratio: 77\n",
      "\tRatio: 62\n"
     ]
    }
   ],
   "source": [
    "print('========== Examples ==========')\n",
    "e = [\n",
    "    ['London, Stanstred', 'Stansted'],\n",
    "    ['Wrowclaw', 'Wroclaw'],\n",
    "    ['Barcelona', 'Barcelone'],\n",
    "    ['Prestwick, South Ayrshire', 'Glasgow, Prestwick'],\n",
    "    ['Prestwick', 'Glasgow, Prestwick'],\n",
    "    ['Gasglow', 'Glasgow'],\n",
    "    ['Londonderry', 'Derry'],\n",
    "    ['Kyiv', 'Kiev'],\n",
    "    ['Sophia', 'Sofia'],\n",
    "    ['Tangier', 'Santander']\n",
    "]\n",
    "for item in e:\n",
    "    e_1 = item[0]\n",
    "    e_2 = item[1]\n",
    "    print(f\"\\n'{e_1}' and '{e_2}'\")\n",
    "    pr = fuzz.partial_ratio(e_1.lower(), e_2.lower())\n",
    "    r = fuzz.ratio(e_1.lower(), e_2.lower())\n",
    "    print(f\"\\tPartial ratio: {pr}\")\n",
    "    print(f\"\\tRatio: {r}\")"
   ]
  },
  {
   "cell_type": "code",
   "execution_count": 147,
   "metadata": {},
   "outputs": [
    {
     "name": "stdout",
     "output_type": "stream",
     "text": [
      "['Zagreb', ],\n",
      "['Riga', ],\n",
      "['Malaga', ],\n",
      "['Nantes', ],\n",
      "['Warsaw', ],\n",
      "['Leeds', ],\n",
      "['Corfu', ],\n",
      "['Rhodes', ],\n",
      "['Brno', ],\n",
      "['Oslo', ],\n",
      "['Zadar', ],\n",
      "['Cyprus', ],\n",
      "['Prague', ],\n",
      "['Ovda', ],\n",
      "['Krakow', ],\n",
      "['Madrid', ],\n",
      "['Hahn', ],\n",
      "['Verona', ],\n",
      "['Pisa', ],\n",
      "['Kaunas', ],\n",
      "['London', ],\n",
      "['Oporto', ],\n",
      "['Derry', ],\n",
      "['Athens', ],\n",
      "['Cracow', ],\n",
      "['Jerez', ],\n",
      "['Venice', ],\n",
      "['Split', ],\n",
      "['Paphos', ],\n",
      "['Berlin', ],\n",
      "['Gerona', ],\n",
      "['Crete', ],\n",
      "['Nis', ],\n",
      "['Rimini', ],\n",
      "['Rhodos', ],\n",
      "['Comiso', ],\n",
      "['Tirana', ],\n",
      "['Rodez', ],\n",
      "['Girona', ],\n",
      "['Knock', ],\n",
      "['Cork', ],\n",
      "['Vienna', ],\n",
      "['NUE', ],\n",
      "['Dublin', ],\n",
      "['Tarbes', ],\n",
      "['Naples', ],\n",
      "['Faro', ],\n",
      "['Kerry', ],\n",
      "['FMM', ],\n",
      "['Chania', ],\n",
      "['Torp', ],\n",
      "['Sofia', ],\n",
      "['Sophia', ],\n",
      "['Rabat', ],\n",
      "['Aarhus', ],\n",
      "['Kos', ],\n",
      "['Murcia', ],\n",
      "['Kiev', ],\n",
      "['Derby', ],\n",
      "['Malta', ],\n",
      "['Tanger', ],\n",
      "['Gdansk', ],\n",
      "['Porto', ],\n",
      "['Fez', ],\n",
      "['Palma', ],\n",
      "['Rriga', ],\n",
      "['Bremen', ],\n",
      "['Bari', ],\n",
      "['Turin', ],\n",
      "['Paris', ],\n",
      "['Vigo', ],\n",
      "['Gudja', ],\n",
      "['Wien', ],\n",
      "['Nimes', ],\n",
      "['Bodrum', ],\n",
      "['Lisbon', ],\n",
      "['Poznan', ],\n",
      "['Ibiza', ],\n",
      "['Kotor', ],\n",
      "['Rome', ],\n",
      "['Agadir', ],\n",
      "['odz', ],\n",
      "['Milan', ],\n",
      "['Pula', ],\n"
     ]
    }
   ],
   "source": [
    "condition = ryanair_cleaned['destination'].str.len() <= 6\n",
    "names = list(set(ryanair_cleaned.loc[condition]['destination'].to_list()))\n",
    "for name in names:\n",
    "    # We find an erratic/different spelling\n",
    "    # and add a desirable one manually.\n",
    "    print(f\"['{name}', ],\")"
   ]
  },
  {
   "cell_type": "code",
   "execution_count": 148,
   "metadata": {},
   "outputs": [
    {
     "data": {
      "text/plain": [
       "[['Palma Mallorca', 'Mallorca'],\n",
       " ['Palma de Mallorca', 'Mallorca'],\n",
       " ['Krakow', 'Krakow return'],\n",
       " ['Turin', 'Krakow return'],\n",
       " ['Mallorca', 'Palma Mallorca'],\n",
       " ['Palma de Mallorca', 'Palma Mallorca'],\n",
       " ['Palma', 'Palma Mallorca'],\n",
       " ['Marrakesh', 'Marrakech'],\n",
       " ['Palma', 'Las Palmas'],\n",
       " ['Gran Canaria', 'Riga'],\n",
       " ['Rriga', 'Riga'],\n",
       " ['Santorini', 'Santorini (Thira)'],\n",
       " ['Bologna', 'Bolonia'],\n",
       " ['Malta', 'Malta and return'],\n",
       " ['Turin', 'Malta and return'],\n",
       " ['Rzeszow Jasionka', 'Rzeszow'],\n",
       " ['Brussels', 'Brussel'],\n",
       " ['Rhodos', 'Rhodes'],\n",
       " ['East Midlands', 'E Midlands'],\n",
       " ['Marrakesh', 'Marakkesh'],\n",
       " ['Krakow return', 'Krakow'],\n",
       " ['Fuertaventura', 'Fuerteventura'],\n",
       " ['Fuertenventura', 'Fuerteventura'],\n",
       " ['Fuertuventura', 'Fuerteventura'],\n",
       " ['Fuerventura', 'Fuerteventura'],\n",
       " ['Prestwick, South Ayrshire', 'Prestwick'],\n",
       " ['Barcelona', 'Barcelone'],\n",
       " ['Mallorca', 'Palma de Mallorca'],\n",
       " ['Palma Mallorca', 'Palma de Mallorca'],\n",
       " ['Palma', 'Palma de Mallorca'],\n",
       " ['Gerona', 'Verona'],\n",
       " ['Lanzorote', 'Lanzarote'],\n",
       " ['Rzeszow', 'Rzeszow Jasionka'],\n",
       " ['Fuerteventura', 'Fuertaventura'],\n",
       " ['Fuertenventura', 'Fuertaventura'],\n",
       " ['Fuertuventura', 'Fuertaventura'],\n",
       " ['Fuerventura', 'Fuertaventura'],\n",
       " ['Porto', 'Oporto'],\n",
       " ['Seville', 'Marseille'],\n",
       " ['Tanger', 'Tangier'],\n",
       " ['Tanger', 'Santander'],\n",
       " ['Lanzarote', 'Lanzorote'],\n",
       " ['Marrakech', 'Marrakesh'],\n",
       " ['Marakkesh', 'Marrakesh'],\n",
       " ['Einhoven', 'Eindhoven'],\n",
       " ['Verona', 'Gerona'],\n",
       " ['Girona', 'Gerona'],\n",
       " ['Rhodes', 'Rhodos'],\n",
       " ['Brussel', 'Brussels'],\n",
       " ['Prestwick', 'Prestwick, South Ayrshire'],\n",
       " ['Gerona', 'Girona'],\n",
       " ['Knock Ireland', 'Knock'],\n",
       " ['Santiago', 'Santiago de Compustelo'],\n",
       " ['Knock', 'Knock Ireland'],\n",
       " ['Wrowclaw', 'Wroclaw'],\n",
       " ['Newcastle upon Tyne', 'Newcastle'],\n",
       " ['Barcelone', 'Barcelona'],\n",
       " ['Marseille', 'Seville'],\n",
       " ['Sevilla', 'Seville'],\n",
       " ['Santorini (Thira)', 'Santorini'],\n",
       " ['Wroclaw', 'Wrowclaw'],\n",
       " ['Karlsruhe', 'Karlsruhe/Baden Baden'],\n",
       " ['Kotor', 'Torp'],\n",
       " ['Riga', 'Gran Canaria'],\n",
       " ['Fuerteventura', 'Fuertenventura'],\n",
       " ['Fuertaventura', 'Fuertenventura'],\n",
       " ['Fuertuventura', 'Fuertenventura'],\n",
       " ['Fuerventura', 'Fuertenventura'],\n",
       " ['Fuerteventura', 'Fuertuventura'],\n",
       " ['Fuertaventura', 'Fuertuventura'],\n",
       " ['Fuertenventura', 'Fuertuventura'],\n",
       " ['Fuerventura', 'Fuertuventura'],\n",
       " ['Malta and return', 'Malta'],\n",
       " ['Tangier', 'Tanger'],\n",
       " ['Santander', 'Tanger'],\n",
       " ['Eindhoven', 'Einhoven'],\n",
       " ['Glasgow', 'Gasglow'],\n",
       " ['Oporto', 'Porto'],\n",
       " ['Gasglow', 'Glasgow'],\n",
       " ['Palma Mallorca', 'Palma'],\n",
       " ['Las Palmas', 'Palma'],\n",
       " ['Palma de Mallorca', 'Palma'],\n",
       " ['Santiago de Compustelo', 'Santiago'],\n",
       " ['Riga', 'Rriga'],\n",
       " ['Newcastle', 'Newcastle upon Tyne'],\n",
       " ['Krakow return', 'Turin'],\n",
       " ['Malta and return', 'Turin'],\n",
       " ['Nuremberg', 'Nurnberg'],\n",
       " ['Fuerteventura', 'Fuerventura'],\n",
       " ['Fuertaventura', 'Fuerventura'],\n",
       " ['Fuertenventura', 'Fuerventura'],\n",
       " ['Fuertuventura', 'Fuerventura'],\n",
       " ['Seville', 'Sevilla'],\n",
       " ['Bolonia', 'Bologna'],\n",
       " ['Torp', 'Kotor'],\n",
       " ['E Midlands', 'East Midlands'],\n",
       " ['Nurnberg', 'Nuremberg'],\n",
       " ['Karlsruhe/Baden Baden', 'Karlsruhe']]"
      ]
     },
     "execution_count": 148,
     "metadata": {},
     "output_type": "execute_result"
    }
   ],
   "source": [
    "# Create a list of destinations.\n",
    "names = list(set(ryanair_cleaned['destination'].to_list()))\n",
    "# Create a list to store pairs [option_1, option_2].\n",
    "potential_typos = []\n",
    "# Set thresholds to make search more or less sensitive.\n",
    "pr_threshold = 80\n",
    "r_threshold = 80\n",
    "\n",
    "for name_1 in names: \n",
    "    for name_2 in names:\n",
    "        if name_1 != name_2:\n",
    "            # Calculate differences.\n",
    "            partial_ratio = fuzz.partial_ratio(\n",
    "                name_1.lower(),\n",
    "                name_2.lower()\n",
    "            )\n",
    "            ratio = fuzz.ratio(\n",
    "                name_1.lower(),\n",
    "                name_2.lower()\n",
    "            )\n",
    "            # Define conditions using thresholds.\n",
    "            condition_pr = partial_ratio > pr_threshold\n",
    "            condition_r = ratio > r_threshold\n",
    "            # See if this pair has score(s) more than threshold(s).\n",
    "            if (condition_pr or condition_r):\n",
    "                # Create a list for this pair.\n",
    "                this_step = []\n",
    "                # Add name_2.\n",
    "                this_step.append(name_2)\n",
    "                # Add name_1.\n",
    "                this_step.append(name_1)\n",
    "                potential_typos.append(this_step)\n",
    "                \n",
    "potential_typos "
   ]
  },
  {
   "cell_type": "code",
   "execution_count": 149,
   "metadata": {},
   "outputs": [
    {
     "name": "stdout",
     "output_type": "stream",
     "text": [
      "Substring 'Malta and return' -> new cell value 'Malta'\n",
      "Substring 'Krakow return' -> new cell value 'Krakow'\n",
      "Substring 'Cracow' -> new cell value 'Krakow'\n",
      "Substring 'odz' -> new cell value 'Lodz'\n",
      "Substring 'Wien' -> new cell value 'Vienna'\n",
      "Substring 'Wrowclaw' -> new cell value 'Wroclaw'\n",
      "Substring 'Gasglow' -> new cell value 'Glasgow'\n",
      "Substring 'Girona' -> new cell value 'Gerona'\n",
      "Substring 'Tanger' -> new cell value 'Tangier'\n",
      "Substring 'Bruxelles' -> new cell value 'Brussels'\n",
      "Substring 'Brussel' -> new cell value 'Brussels'\n",
      "Substring 'Charleroi' -> new cell value 'Brussels'\n",
      "Substring 'Oporto' -> new cell value 'Porto'\n",
      "Substring 'Karlsruhe' -> new cell value 'Karlsruhe/Baden Baden'\n",
      "Substring 'Marakkesh' -> new cell value 'Marrakech'\n",
      "Substring 'Marrakesh' -> new cell value 'Marrakech'\n",
      "Substring 'Barcelone' -> new cell value 'Barcelona'\n",
      "Substring 'Sevilla' -> new cell value 'Seville'\n",
      "Substring 'Jerez' -> new cell value 'Jerez De La Frontera'\n",
      "Substring 'Rhodos' -> new cell value 'Rhodes'\n",
      "Substring 'Bergamo' -> new cell value 'Milan'\n",
      "Substring 'Milan' -> new cell value 'Milan'\n",
      "Substring 'Bolonia' -> new cell value 'Bologna'\n",
      "Substring 'Einhoven' -> new cell value 'Eindhoven'\n",
      "Substring 'Fuertenventura' -> new cell value 'Fuerteventura'\n",
      "Substring 'Fuertuventura' -> new cell value 'Fuerteventura'\n",
      "Substring 'Fuerventura' -> new cell value 'Fuerteventura'\n",
      "Substring 'Fuertaventura' -> new cell value 'Fuerteventura'\n",
      "Substring 'Knock Ireland' -> new cell value 'Knock'\n",
      "Substring 'Jasionka' -> new cell value 'Rzeszow'\n",
      "Substring 'Rzeszow Jasionka' -> new cell value 'Rzeszow'\n",
      "Substring 'Prestwick, South Ayrshire' -> new cell value 'Prestwick'\n",
      "Substring 'Prestwick' -> new cell value 'Glasgow'\n",
      "Substring 'Newcastle upon Tyne' -> new cell value 'Newcastle'\n",
      "Substring 'Rriga' -> new cell value 'Riga'\n",
      "Substring 'Santiago' -> new cell value 'Santiago de Compostela'\n",
      "Substring 'Santorini' -> new cell value 'Santorini'\n",
      "Substring 'NUE' -> new cell value 'Nuremberg'\n",
      "Substring 'Nurnberg' -> new cell value 'Nuremberg'\n",
      "Substring 'Midlands' -> new cell value 'East Midlands'\n",
      "Substring 'FMM' -> new cell value 'Memmingen'\n",
      "Substring 'Mallorca' -> new cell value 'Palma de Mallorca'\n",
      "Substring 'Palma Mallorca' -> new cell value 'Palma de Mallorca'\n",
      "Substring 'Majorca' -> new cell value 'Palma de Mallorca'\n",
      "Substring 'Lanzorote' -> new cell value 'Lanzarote'\n",
      "\n",
      "Value 'Kiev' -> new value 'Kyiv'\n",
      "Value 'Sophia' -> new value 'Sofia'\n",
      "Value 'Fes' -> new value 'Fez'\n",
      "Value 'Palma' -> new value 'Palma de Mallorca'\n"
     ]
    }
   ],
   "source": [
    "# Selected pairs from the list above.\n",
    "words_to_fix = [\n",
    "    ['Malta and return', 'Malta'],\n",
    "    ['Krakow return', 'Krakow'],\n",
    "    ['Cracow', 'Krakow'],\n",
    "    ['odz', 'Lodz'],\n",
    "    ['Wien', 'Vienna'],\n",
    "    ['Wrowclaw', 'Wroclaw'],\n",
    "    ['Gasglow', 'Glasgow'],\n",
    "    ['Girona', 'Gerona'],\n",
    "    ['Tanger', 'Tangier'],\n",
    "    ['Bruxelles', 'Brussels'],\n",
    "    ['Brussel', 'Brussels'],\n",
    "    ['Charleroi', 'Brussels'],\n",
    "    ['Oporto', 'Porto'],\n",
    "    ['Karlsruhe', 'Karlsruhe/Baden Baden'],\n",
    "    ['Marakkesh', 'Marrakech'],\n",
    "    ['Marrakesh', 'Marrakech'],\n",
    "    ['Barcelone', 'Barcelona'],\n",
    "    ['Sevilla', 'Seville'],\n",
    "    ['Jerez', 'Jerez De La Frontera'],\n",
    "    ['Rhodos', 'Rhodes'],\n",
    "    ['Bergamo', 'Milan'],\n",
    "    ['Milan', 'Milan'],\n",
    "    ['Bolonia', 'Bologna'],\n",
    "    ['Einhoven', 'Eindhoven'],\n",
    "    ['Fuertenventura', 'Fuerteventura'],\n",
    "    ['Fuertuventura', 'Fuerteventura'],\n",
    "    ['Fuerventura', 'Fuerteventura'],\n",
    "    ['Fuertaventura', 'Fuerteventura'],\n",
    "    ['Knock Ireland', 'Knock'],\n",
    "    ['Jasionka', 'Rzeszow'],\n",
    "    ['Rzeszow Jasionka', 'Rzeszow'],\n",
    "    ['Prestwick, South Ayrshire', 'Prestwick'],\n",
    "    ['Prestwick', 'Glasgow'],\n",
    "    ['Newcastle upon Tyne', 'Newcastle'],\n",
    "    ['Rriga', 'Riga'],\n",
    "    ['Santiago', 'Santiago de Compostela'],\n",
    "    ['Santorini', 'Santorini'],\n",
    "    ['NUE', 'Nuremberg'],\n",
    "    ['Nurnberg', 'Nuremberg'],\n",
    "    ['Midlands', 'East Midlands'],\n",
    "    ['FMM', 'Memmingen'],\n",
    "    ['Mallorca', 'Palma de Mallorca'],\n",
    "    ['Palma Mallorca', 'Palma de Mallorca'],\n",
    "    ['Majorca', 'Palma de Mallorca'],\n",
    "    ['Lanzorote', 'Lanzarote']\n",
    "]\n",
    "# Check if there is a specified substring (item[0])\n",
    "# to change the value of the cell to item[1].    \n",
    "for item in words_to_fix:\n",
    "    print(f\"Substring '{item[0]}' -> new cell value '{item[1]}'\")\n",
    "    \n",
    "    # Fix destinations.\n",
    "    ryanair_cleaned.loc[\n",
    "         ryanair_cleaned['destination']\n",
    "        .str.contains(item[0]),\n",
    "        'destination'] = item[1]\n",
    "    \n",
    "    # Fix origins, just in case.\n",
    "    ryanair_cleaned.loc[\n",
    "         ryanair_cleaned['origin']\n",
    "        .str.contains(item[0]),\n",
    "        'origin'] = item[1]\n",
    "    \n",
    "print()\n",
    "for item in [\n",
    "    ['Kiev', 'Kyiv'],\n",
    "    ['Sophia', 'Sofia'],\n",
    "    ['Fes', 'Fez'],\n",
    "    ['Palma', 'Palma de Mallorca']\n",
    "]:\n",
    "    print(f\"Value '{item[0]}' -> new value '{item[1]}'\")\n",
    "    ryanair_cleaned.loc[\n",
    "         ryanair_cleaned['destination'] == item[0],\n",
    "        'destination'] = item[1]\n",
    "    \n",
    "    ryanair_cleaned.loc[\n",
    "         ryanair_cleaned['origin'] == item[0],\n",
    "        'origin'] = item[1]"
   ]
  },
  {
   "cell_type": "code",
   "execution_count": 150,
   "metadata": {},
   "outputs": [
    {
     "name": "stdout",
     "output_type": "stream",
     "text": [
      "['Zagreb', ],\n",
      "['Lublin', ],\n",
      "['Boston', ],\n",
      "['AC', ],\n",
      "['Munich', ],\n",
      "['Hahn', ],\n",
      "['Pisa', ],\n",
      "['Cork', ],\n",
      "['Riga', ],\n",
      "['Malaga', ],\n",
      "['Fez', ],\n",
      "['Vienna', ],\n",
      "['London', ],\n",
      "['Krakow', ],\n",
      "['Bremen', ],\n",
      "['Dublin', ],\n",
      "['Bari', ],\n",
      "['Naples', ],\n",
      "['Athens', ],\n",
      "['Paris', ],\n",
      "['Lulea', ],\n",
      "['Warsaw', ],\n",
      "['Faro', ],\n",
      "['Kerry', ],\n",
      "['Genoa', ],\n",
      "['Venice', ],\n",
      "['Odesa', ],\n",
      "['Bati', ],\n",
      "['Leeds', ],\n",
      "['Chania', ],\n",
      "['Ancona', ],\n",
      "['Roma', ],\n",
      "['Bodrum', ],\n",
      "['Nice', ],\n",
      "['Dinard', ],\n",
      "['Paphos', ],\n",
      "['Lisbon', ],\n",
      "['Sofia', ],\n",
      "['Corfu', ],\n",
      "['Berlin', ],\n",
      "['Ibiza', ],\n",
      "['Amman', ],\n",
      "['Nis', ],\n",
      "['Poznan', ],\n",
      "['Exeter', ],\n",
      "['Rabat', ],\n",
      "['Rome', ],\n",
      "['Gerona', ],\n",
      "['Murcia', ],\n",
      "['Oslo', ],\n",
      "['Zadar', ],\n",
      "['Derby', ],\n",
      "['Prague', ],\n",
      "['Bezier', ],\n",
      "['Burgas', ],\n",
      "['Malta', ],\n",
      "['Weeze', ],\n",
      "['Rodez', ],\n",
      "['Gdansk', ],\n",
      "['Porto', ],\n",
      "['Kyiv', ],\n",
      "['Milan', ],\n",
      "['Madrid', ],\n",
      "['Pula', ],\n",
      "['Knock', ],\n"
     ]
    }
   ],
   "source": [
    "# Create a list of starting points shorter than 6 letters.\n",
    "condition = ryanair_cleaned['origin'].str.len() <= 6\n",
    "names = list(set(ryanair_cleaned.loc[condition]['origin'].to_list()))\n",
    "for name in names:\n",
    "    # We find an erratic/different spelling\n",
    "    # and add a desirable one manually.\n",
    "    print(f\"['{name}', ],\")"
   ]
  },
  {
   "cell_type": "code",
   "execution_count": 151,
   "metadata": {},
   "outputs": [
    {
     "data": {
      "text/plain": [
       "[['Ponta Delgado', 'Ponta DelGada'],\n",
       " ['Ponta Delgada', 'Ponta DelGada'],\n",
       " ['Gran Canaria', 'Riga'],\n",
       " ['Malta', 'Malaga'],\n",
       " ['Edinburgh', 'Edinbrough'],\n",
       " ['Memmingen', 'Memmingnem'],\n",
       " ['Warszawa', 'Warsaw'],\n",
       " ['Stanstred', 'Stanstead'],\n",
       " ['Beziers France', 'Nice'],\n",
       " ['Venice', 'Nice'],\n",
       " ['Beauvais France', 'Nice'],\n",
       " ['Beziers France', 'Bezier'],\n",
       " ['Nice', 'Beziers France'],\n",
       " ['Bezier', 'Beziers France'],\n",
       " ['Beauvais France', 'Beziers France'],\n",
       " ['Ponta DelGada', 'Ponta Delgado'],\n",
       " ['Ponta Delgada', 'Ponta Delgado'],\n",
       " ['Dublin', 'Lublin'],\n",
       " ['Bergerac', 'AC'],\n",
       " ['Seville', 'Marseille'],\n",
       " ['Fez', 'Arrecife'],\n",
       " ['Poitiers', 'Tangiers'],\n",
       " ['Nis', 'Athens'],\n",
       " ['Nice', 'Venice'],\n",
       " ['Bordeaux', 'Odesa'],\n",
       " ['Lublin', 'Berlin'],\n",
       " ['Dublin', 'Berlin'],\n",
       " ['Frankfurt', 'Frankfurt Hanh'],\n",
       " ['Athens', 'Nis'],\n",
       " ['Santorini', 'Nis'],\n",
       " ['Odesa', 'Bordeaux'],\n",
       " ['Stanstead', 'Stanstred'],\n",
       " ['Tel Aviv', 'Tel Aviv Yafo'],\n",
       " ['Burgas', 'Gothenburg'],\n",
       " ['Edinburgh', 'Gothenburg'],\n",
       " ['Lamezia Terme', 'Lamezia'],\n",
       " ['Lamezia', 'Lamezia Terme'],\n",
       " ['Lublin', 'Dublin'],\n",
       " ['Marseille', 'Seville'],\n",
       " ['Beauvais France', 'Beauvais'],\n",
       " ['Nis', 'Santorini'],\n",
       " ['Chania', 'Gran Carnia'],\n",
       " ['Gran Canaria', 'Gran Carnia'],\n",
       " ['Catania', 'Gran Carnia'],\n",
       " ['Tel Aviv Yafo', 'Tel Aviv'],\n",
       " ['Gran Carnia', 'Chania'],\n",
       " ['Catania', 'Chania'],\n",
       " ['Ancona Falconara', 'Ancona'],\n",
       " ['Riga', 'Gran Canaria'],\n",
       " ['Gran Carnia', 'Gran Canaria'],\n",
       " ['Burgas', 'Salzburg'],\n",
       " ['Ponta DelGada', 'Ponta Delgada'],\n",
       " ['Ponta Delgado', 'Ponta Delgada'],\n",
       " ['Bati', 'Rabat'],\n",
       " ['Warsaw', 'Warszawa'],\n",
       " ['Gothenburg', 'Burgas'],\n",
       " ['Salzburg', 'Burgas'],\n",
       " ['Hamburg', 'Burgas'],\n",
       " ['Malaga', 'Malta'],\n",
       " ['Fez', 'Tenerife'],\n",
       " ['Frankfurt Hanh', 'Frankfurt'],\n",
       " ['Burgas', 'Hamburg'],\n",
       " ['Arrecife', 'Fez'],\n",
       " ['Tenerife', 'Fez'],\n",
       " ['Memmingnem', 'Memmingen'],\n",
       " ['Rabat', 'Bati'],\n",
       " ['Edinbrough', 'Edinburgh'],\n",
       " ['Gothenburg', 'Edinburgh'],\n",
       " ['Gran Carnia', 'Catania'],\n",
       " ['Chania', 'Catania'],\n",
       " ['Milan', 'East Midlands'],\n",
       " ['AC', 'Bergerac'],\n",
       " ['East Midlands', 'Milan'],\n",
       " ['Nice', 'Beauvais France'],\n",
       " ['Beziers France', 'Beauvais France'],\n",
       " ['Beauvais', 'Beauvais France'],\n",
       " ['Ancona', 'Ancona Falconara']]"
      ]
     },
     "execution_count": 151,
     "metadata": {},
     "output_type": "execute_result"
    }
   ],
   "source": [
    "# Create a list of origins.\n",
    "names = list(set(ryanair_cleaned['origin'].to_list()))\n",
    "# Create a list to store pairs [option_1, option_2].\n",
    "potential_typos = []\n",
    "# Set thresholds to make search more or less sensitive.\n",
    "pr_threshold = 75\n",
    "r_threshold = 75\n",
    "\n",
    "for name_1 in names: \n",
    "    for name_2 in names:\n",
    "        if name_1 != name_2:\n",
    "            # Calculate differences.\n",
    "            partial_ratio = fuzz.partial_ratio(\n",
    "                name_1.lower(),\n",
    "                name_2.lower()\n",
    "            )\n",
    "            ratio = fuzz.ratio(\n",
    "                name_1.lower(),\n",
    "                name_2.lower()\n",
    "            )\n",
    "            # Define conditions using thresholds.\n",
    "            condition_pr = partial_ratio > pr_threshold\n",
    "            condition_r = ratio > r_threshold\n",
    "            # See if this pair has score(s) more than threshold(s).\n",
    "            if (condition_pr or condition_r):\n",
    "                # Create a list for this pair.\n",
    "                this_step = []\n",
    "                # Add name_2.\n",
    "                this_step.append(name_2)\n",
    "                # Add name_1.\n",
    "                this_step.append(name_1)\n",
    "                potential_typos.append(this_step)\n",
    "                \n",
    "potential_typos "
   ]
  },
  {
   "cell_type": "code",
   "execution_count": 152,
   "metadata": {},
   "outputs": [
    {
     "name": "stdout",
     "output_type": "stream",
     "text": [
      "Substring 'Beziers France' -> new cell value 'Beziers'\n",
      "Substring 'Bezier' -> new cell value 'Beziers'\n",
      "Substring 'Mykonos' -> new cell value 'Mikonos'\n",
      "Substring 'Edinbrough' -> new cell value 'Edinburgh'\n",
      "Substring 'Tel Aviv' -> new cell value 'Tel Aviv'\n",
      "Substring 'Perugia Pisa' -> new cell value 'Pisa'\n",
      "Substring 'Milano' -> new cell value 'Milan'\n",
      "Substring 'Milano Malpensa' -> new cell value 'Milan'\n",
      "Substring 'Girona' -> new cell value 'Gerona'\n",
      "Substring 'Tangiers' -> new cell value 'Tangier'\n",
      "Substring 'Ponta Delgado' -> new cell value 'Ponta Delgada'\n",
      "Substring 'Ponta DelGada' -> new cell value 'Ponta Delgada'\n",
      "Substring 'Crete Chania ' -> new cell value 'Chania'\n",
      "Substring 'Gran Carnia' -> new cell value 'Gran Canaria'\n",
      "Substring 'Warsaw Modlin' -> new cell value 'Warsaw'\n",
      "Substring 'Warszawa' -> new cell value 'Warsaw'\n",
      "Substring 'Bucharest Otopeni' -> new cell value 'Bucharest'\n",
      "Substring 'Sevilla' -> new cell value 'Seville'\n",
      "Substring 'Jerez' -> new cell value 'Jerez De La Frontera'\n",
      "Substring 'Beauvais France' -> new cell value 'Paris'\n",
      "Substring 'Beauvais' -> new cell value 'Paris'\n",
      "Substring 'Ancona Falconara' -> new cell value 'Ancona'\n",
      "Substring 'Perugia Pisa' -> new cell value 'Pisa'\n",
      "Substring 'Lamezia Terme' -> new cell value 'Lamezia'\n",
      "Substring 'Memmingnem' -> new cell value 'Memmingen'\n",
      "Substring 'Stanstred' -> new cell value 'London'\n",
      "Substring 'Stanstead' -> new cell value 'London'\n"
     ]
    }
   ],
   "source": [
    "words_to_fix = [\n",
    "    ['Beziers France', 'Beziers'],\n",
    "    ['Bezier', 'Beziers'],\n",
    "    ['Mykonos', 'Mikonos'],\n",
    "    ['Edinbrough', 'Edinburgh'],\n",
    "    ['Tel Aviv', 'Tel Aviv'],\n",
    "    ['Perugia Pisa', 'Pisa'],\n",
    "    ['Milano', 'Milan'],\n",
    "    ['Milano Malpensa', 'Milan'],\n",
    "    ['Girona', 'Gerona'],\n",
    "    ['Tangiers', 'Tangier'],\n",
    "    ['Ponta Delgado', 'Ponta Delgada'],\n",
    "    ['Ponta DelGada', 'Ponta Delgada'],\n",
    "    ['Crete Chania ', 'Chania'],\n",
    "    ['Gran Carnia', 'Gran Canaria'],\n",
    "    ['Warsaw Modlin', 'Warsaw'],\n",
    "    ['Warszawa', 'Warsaw'],\n",
    "    ['Bucharest Otopeni', 'Bucharest'],\n",
    "    ['Sevilla', 'Seville'],\n",
    "    ['Jerez', 'Jerez De La Frontera'],\n",
    "    ['Beauvais France', 'Paris'],\n",
    "     ['Beauvais', 'Paris'],\n",
    "    ['Ancona Falconara', 'Ancona'],\n",
    "    ['Perugia Pisa', 'Pisa'],\n",
    "    ['Lamezia Terme', 'Lamezia'],\n",
    "    ['Memmingnem', 'Memmingen'],\n",
    "    ['Stanstred', 'London'],\n",
    "    ['Stanstead', 'London'],\n",
    "]\n",
    "    \n",
    "    \n",
    "words_to_fix\n",
    "for item in words_to_fix:\n",
    "    print(f\"Substring '{item[0]}' -> new cell value '{item[1]}'\")\n",
    "    # Fix origins.\n",
    "    ryanair_cleaned.loc[\n",
    "        ryanair_cleaned['origin']\n",
    "        .str.contains(item[0]),\n",
    "        'origin'] = item[1]\n",
    "    # Fix destinations.\n",
    "    ryanair_cleaned.loc[\n",
    "        ryanair_cleaned['destination']\n",
    "        .str.contains(item[0]),\n",
    "        'destination'] = item[1]"
   ]
  },
  {
   "cell_type": "code",
   "execution_count": 153,
   "metadata": {},
   "outputs": [
    {
     "data": {
      "text/plain": [
       "178"
      ]
     },
     "execution_count": 153,
     "metadata": {},
     "output_type": "execute_result"
    }
   ],
   "source": [
    "ryanair_cleaned['destination'].nunique()"
   ]
  },
  {
   "cell_type": "code",
   "execution_count": null,
   "metadata": {},
   "outputs": [],
   "source": [
    "\n"
   ]
  },
  {
   "cell_type": "code",
   "execution_count": 154,
   "metadata": {},
   "outputs": [
    {
     "data": {
      "text/html": [
       "<div>\n",
       "<style scoped>\n",
       "    .dataframe tbody tr th:only-of-type {\n",
       "        vertical-align: middle;\n",
       "    }\n",
       "\n",
       "    .dataframe tbody tr th {\n",
       "        vertical-align: top;\n",
       "    }\n",
       "\n",
       "    .dataframe thead th {\n",
       "        text-align: right;\n",
       "    }\n",
       "</style>\n",
       "<table border=\"1\" class=\"dataframe\">\n",
       "  <thead>\n",
       "    <tr style=\"text-align: right;\">\n",
       "      <th></th>\n",
       "      <th>date_published</th>\n",
       "      <th>overall_rating</th>\n",
       "      <th>passenger_country</th>\n",
       "      <th>trip_verified</th>\n",
       "      <th>comment_title</th>\n",
       "      <th>comment</th>\n",
       "      <th>aircraft</th>\n",
       "      <th>type_of_traveller</th>\n",
       "      <th>seat_type</th>\n",
       "      <th>origin</th>\n",
       "      <th>destination</th>\n",
       "      <th>date_flown</th>\n",
       "      <th>seat_comfort</th>\n",
       "      <th>cabin_staff_service</th>\n",
       "      <th>food_&amp;_beverages</th>\n",
       "      <th>ground_service</th>\n",
       "      <th>value_for_money</th>\n",
       "      <th>recommended</th>\n",
       "      <th>aircraft_family</th>\n",
       "    </tr>\n",
       "  </thead>\n",
       "  <tbody>\n",
       "    <tr>\n",
       "      <th>0</th>\n",
       "      <td>2024-02-03</td>\n",
       "      <td>10.0</td>\n",
       "      <td>United Kingdom</td>\n",
       "      <td>Not Verified</td>\n",
       "      <td>\"bang on time and smooth flights\"</td>\n",
       "      <td>Flew back from Faro to London Luton Friday 2nd...</td>\n",
       "      <td>Boeing 737 900</td>\n",
       "      <td>Family Leisure</td>\n",
       "      <td>Economy Class</td>\n",
       "      <td>Faro</td>\n",
       "      <td>London</td>\n",
       "      <td>February 2024</td>\n",
       "      <td>4.0</td>\n",
       "      <td>5.0</td>\n",
       "      <td>3.0</td>\n",
       "      <td>4.0</td>\n",
       "      <td>4.0</td>\n",
       "      <td>yes</td>\n",
       "      <td>Boeing 737 NG</td>\n",
       "    </tr>\n",
       "    <tr>\n",
       "      <th>1</th>\n",
       "      <td>2024-01-26</td>\n",
       "      <td>10.0</td>\n",
       "      <td>United Kingdom</td>\n",
       "      <td>Trip Verified</td>\n",
       "      <td>\"Another good affordable flight\"</td>\n",
       "      <td>Another good affordable flight with Ryanair. O...</td>\n",
       "      <td>NaN</td>\n",
       "      <td>Couple Leisure</td>\n",
       "      <td>Economy Class</td>\n",
       "      <td>Belfast</td>\n",
       "      <td>Alicante</td>\n",
       "      <td>January 2024</td>\n",
       "      <td>3.0</td>\n",
       "      <td>5.0</td>\n",
       "      <td>3.0</td>\n",
       "      <td>5.0</td>\n",
       "      <td>5.0</td>\n",
       "      <td>yes</td>\n",
       "      <td>Unknown</td>\n",
       "    </tr>\n",
       "    <tr>\n",
       "      <th>2</th>\n",
       "      <td>2024-01-20</td>\n",
       "      <td>10.0</td>\n",
       "      <td>United Kingdom</td>\n",
       "      <td>Trip Verified</td>\n",
       "      <td>“Really impressed!”</td>\n",
       "      <td>Really impressed! You get what you pay for, th...</td>\n",
       "      <td>Boeing 737-800</td>\n",
       "      <td>Couple Leisure</td>\n",
       "      <td>Economy Class</td>\n",
       "      <td>Edinburgh</td>\n",
       "      <td>Paris</td>\n",
       "      <td>October 2023</td>\n",
       "      <td>5.0</td>\n",
       "      <td>5.0</td>\n",
       "      <td>4.0</td>\n",
       "      <td>5.0</td>\n",
       "      <td>5.0</td>\n",
       "      <td>yes</td>\n",
       "      <td>Boeing 737 NG</td>\n",
       "    </tr>\n",
       "    <tr>\n",
       "      <th>3</th>\n",
       "      <td>2024-01-07</td>\n",
       "      <td>6.0</td>\n",
       "      <td>United Kingdom</td>\n",
       "      <td>Trip Verified</td>\n",
       "      <td>“a decent offering from Ryanair”</td>\n",
       "      <td>I should like to review my flight from Faro to...</td>\n",
       "      <td>Boeing 737</td>\n",
       "      <td>Solo Leisure</td>\n",
       "      <td>Economy Class</td>\n",
       "      <td>Faro</td>\n",
       "      <td>Liverpool</td>\n",
       "      <td>January 2024</td>\n",
       "      <td>3.0</td>\n",
       "      <td>2.0</td>\n",
       "      <td>1.0</td>\n",
       "      <td>3.0</td>\n",
       "      <td>3.0</td>\n",
       "      <td>yes</td>\n",
       "      <td>Boeing 737 NG</td>\n",
       "    </tr>\n",
       "    <tr>\n",
       "      <th>4</th>\n",
       "      <td>2024-01-06</td>\n",
       "      <td>10.0</td>\n",
       "      <td>Israel</td>\n",
       "      <td>Trip Verified</td>\n",
       "      <td>“cabin crew were welcoming and friendly”</td>\n",
       "      <td>Flight left the gate ahead of schedule, fare w...</td>\n",
       "      <td>Boeing 737-800</td>\n",
       "      <td>Solo Leisure</td>\n",
       "      <td>Economy Class</td>\n",
       "      <td>Dublin</td>\n",
       "      <td>Manchester</td>\n",
       "      <td>January 2024</td>\n",
       "      <td>4.0</td>\n",
       "      <td>5.0</td>\n",
       "      <td>NaN</td>\n",
       "      <td>4.0</td>\n",
       "      <td>5.0</td>\n",
       "      <td>yes</td>\n",
       "      <td>Boeing 737 NG</td>\n",
       "    </tr>\n",
       "  </tbody>\n",
       "</table>\n",
       "</div>"
      ],
      "text/plain": [
       "  date_published  overall_rating passenger_country  trip_verified  \\\n",
       "0     2024-02-03            10.0    United Kingdom   Not Verified   \n",
       "1     2024-01-26            10.0    United Kingdom  Trip Verified   \n",
       "2     2024-01-20            10.0    United Kingdom  Trip Verified   \n",
       "3     2024-01-07             6.0    United Kingdom  Trip Verified   \n",
       "4     2024-01-06            10.0            Israel  Trip Verified   \n",
       "\n",
       "                              comment_title  \\\n",
       "0         \"bang on time and smooth flights\"   \n",
       "1          \"Another good affordable flight\"   \n",
       "2                       “Really impressed!”   \n",
       "3          “a decent offering from Ryanair”   \n",
       "4  “cabin crew were welcoming and friendly”   \n",
       "\n",
       "                                             comment        aircraft  \\\n",
       "0  Flew back from Faro to London Luton Friday 2nd...  Boeing 737 900   \n",
       "1  Another good affordable flight with Ryanair. O...             NaN   \n",
       "2  Really impressed! You get what you pay for, th...  Boeing 737-800   \n",
       "3  I should like to review my flight from Faro to...      Boeing 737   \n",
       "4  Flight left the gate ahead of schedule, fare w...  Boeing 737-800   \n",
       "\n",
       "  type_of_traveller      seat_type     origin destination     date_flown  \\\n",
       "0    Family Leisure  Economy Class       Faro      London  February 2024   \n",
       "1    Couple Leisure  Economy Class    Belfast    Alicante   January 2024   \n",
       "2    Couple Leisure  Economy Class  Edinburgh       Paris   October 2023   \n",
       "3      Solo Leisure  Economy Class       Faro   Liverpool   January 2024   \n",
       "4      Solo Leisure  Economy Class     Dublin  Manchester   January 2024   \n",
       "\n",
       "   seat_comfort  cabin_staff_service  food_&_beverages  ground_service  \\\n",
       "0           4.0                  5.0               3.0             4.0   \n",
       "1           3.0                  5.0               3.0             5.0   \n",
       "2           5.0                  5.0               4.0             5.0   \n",
       "3           3.0                  2.0               1.0             3.0   \n",
       "4           4.0                  5.0               NaN             4.0   \n",
       "\n",
       "   value_for_money recommended aircraft_family  \n",
       "0              4.0         yes   Boeing 737 NG  \n",
       "1              5.0         yes         Unknown  \n",
       "2              5.0         yes   Boeing 737 NG  \n",
       "3              3.0         yes   Boeing 737 NG  \n",
       "4              5.0         yes   Boeing 737 NG  "
      ]
     },
     "execution_count": 154,
     "metadata": {},
     "output_type": "execute_result"
    }
   ],
   "source": [
    "ryanair_cleaned.head()"
   ]
  },
  {
   "cell_type": "code",
   "execution_count": 155,
   "metadata": {},
   "outputs": [
    {
     "name": "stdout",
     "output_type": "stream",
     "text": [
      "0       Boeing 737 NG\n",
      "1             Unknown\n",
      "2       Boeing 737 NG\n",
      "3       Boeing 737 NG\n",
      "4       Boeing 737 NG\n",
      "            ...      \n",
      "1630          Unknown\n",
      "1631          Unknown\n",
      "1632          Unknown\n",
      "1633          Unknown\n",
      "1634          Unknown\n",
      "Name: aircraft_family, Length: 1634, dtype: object\n"
     ]
    }
   ],
   "source": [
    "# Step 1 & 2: Group by 'Origin' and 'Aircraft Family' and count the occurrences\n",
    "most_common_aircraft = ryanair_cleaned.groupby('origin')['aircraft_family'].apply(lambda x: x.mode()[0] if not x.mode().empty else 'Unknown')\n",
    "\n",
    "# Step 3: Map the most common aircraft to the 'Unknown' values\n",
    "ryanair_cleaned.loc[ryanair_cleaned['aircraft_family'] == 'Unknown', 'aircraft_family'] = ryanair_cleaned['origin'].map(most_common_aircraft)\n",
    "\n",
    "# Step 4: Verify the replacement\n",
    "print(ryanair_cleaned['aircraft_family'])"
   ]
  },
  {
   "cell_type": "code",
   "execution_count": 156,
   "metadata": {},
   "outputs": [
    {
     "data": {
      "text/plain": [
       "aircraft_family\n",
       "Unknown               991\n",
       "Boeing 737 NG         610\n",
       "Boeing 747             10\n",
       "Boeing 738 NG           8\n",
       "Airbus A320             6\n",
       "Airbus A340             2\n",
       "Boeing 737 Classic      2\n",
       "Boeing 737 MAX          1\n",
       "Boeing 737 MAX 8        1\n",
       "Being 737 NG            1\n",
       "Boeing 737 NG,          1\n",
       "Other/Unknown           1\n",
       "Name: count, dtype: int64"
      ]
     },
     "execution_count": 156,
     "metadata": {},
     "output_type": "execute_result"
    }
   ],
   "source": [
    "aircraft_family_counts = ryanair_cleaned['aircraft_family'].value_counts()\n",
    "aircraft_family_counts\n"
   ]
  },
  {
   "cell_type": "code",
   "execution_count": 157,
   "metadata": {},
   "outputs": [
    {
     "data": {
      "text/plain": [
       "origin\n",
       "London            269\n",
       "Dublin             98\n",
       "Manchester         70\n",
       "Barcelona          57\n",
       "Athens             44\n",
       "                 ... \n",
       "Genoa               1\n",
       "Frankfurt Hanh      1\n",
       "Hungary             1\n",
       "Skavsta             1\n",
       "Mulhouse/basel      1\n",
       "Name: count, Length: 160, dtype: int64"
      ]
     },
     "execution_count": 157,
     "metadata": {},
     "output_type": "execute_result"
    }
   ],
   "source": [
    "boeing_747_flights = ryanair_cleaned[ryanair_cleaned['aircraft_family'] == 'Boeing 747']\n",
    "boeing_747_flights\n",
    "ryanair_cleaned['origin'].value_counts()"
   ]
  },
  {
   "cell_type": "code",
   "execution_count": 158,
   "metadata": {},
   "outputs": [],
   "source": [
    "# Step 1: Identify the relevant columns\n",
    "service_columns = ['seat_comfort', 'cabin_staff_service', 'food_&_beverages', 'ground_service', 'value_for_money']\n",
    "\n",
    "# Step 2: Calculate the row-wise median for these columns, ignoring NaNs\n",
    "row_medians = ryanair_cleaned[service_columns].median(axis=1, skipna=True).round(0)\n",
    "\n",
    "# Step 3: Use the calculated medians to fill in NaNs in each respective column\n",
    "for column in service_columns:\n",
    "    ryanair_cleaned[column] = ryanair_cleaned[column].fillna(row_medians)\n"
   ]
  },
  {
   "cell_type": "code",
   "execution_count": 159,
   "metadata": {},
   "outputs": [
    {
     "name": "stdout",
     "output_type": "stream",
     "text": [
      "<class 'pandas.core.frame.DataFrame'>\n",
      "Index: 1634 entries, 0 to 1634\n",
      "Data columns (total 19 columns):\n",
      " #   Column               Non-Null Count  Dtype  \n",
      "---  ------               --------------  -----  \n",
      " 0   date_published       1634 non-null   object \n",
      " 1   overall_rating       1634 non-null   float64\n",
      " 2   passenger_country    1634 non-null   object \n",
      " 3   trip_verified        1305 non-null   object \n",
      " 4   comment_title        1634 non-null   object \n",
      " 5   comment              1634 non-null   object \n",
      " 6   aircraft             551 non-null    object \n",
      " 7   type_of_traveller    1634 non-null   object \n",
      " 8   seat_type            1634 non-null   object \n",
      " 9   origin               1634 non-null   object \n",
      " 10  destination          1634 non-null   object \n",
      " 11  date_flown           1631 non-null   object \n",
      " 12  seat_comfort         1633 non-null   float64\n",
      " 13  cabin_staff_service  1633 non-null   float64\n",
      " 14  food_&_beverages     1633 non-null   float64\n",
      " 15  ground_service       1633 non-null   float64\n",
      " 16  value_for_money      1633 non-null   float64\n",
      " 17  recommended          1634 non-null   object \n",
      " 18  aircraft_family      1634 non-null   object \n",
      "dtypes: float64(6), object(13)\n",
      "memory usage: 319.9+ KB\n"
     ]
    }
   ],
   "source": [
    "ryanair_cleaned.info()"
   ]
  },
  {
   "cell_type": "code",
   "execution_count": 160,
   "metadata": {},
   "outputs": [
    {
     "ename": "KeyError",
     "evalue": "\"['Food & Beverages'] not found in axis\"",
     "output_type": "error",
     "traceback": [
      "\u001b[1;31m---------------------------------------------------------------------------\u001b[0m",
      "\u001b[1;31mKeyError\u001b[0m                                  Traceback (most recent call last)",
      "Cell \u001b[1;32mIn[160], line 1\u001b[0m\n\u001b[1;32m----> 1\u001b[0m \u001b[43mryanair_cleaned\u001b[49m\u001b[38;5;241;43m.\u001b[39;49m\u001b[43mdrop\u001b[49m\u001b[43m(\u001b[49m\u001b[38;5;124;43m'\u001b[39;49m\u001b[38;5;124;43mFood & Beverages\u001b[39;49m\u001b[38;5;124;43m'\u001b[39;49m\u001b[43m,\u001b[49m\u001b[43m \u001b[49m\u001b[43maxis\u001b[49m\u001b[38;5;241;43m=\u001b[39;49m\u001b[38;5;241;43m1\u001b[39;49m\u001b[43m,\u001b[49m\u001b[43m \u001b[49m\u001b[43minplace\u001b[49m\u001b[38;5;241;43m=\u001b[39;49m\u001b[38;5;28;43;01mTrue\u001b[39;49;00m\u001b[43m)\u001b[49m\n",
      "File \u001b[1;32m~\\AppData\\Roaming\\Python\\Python312\\site-packages\\pandas\\core\\frame.py:5568\u001b[0m, in \u001b[0;36mDataFrame.drop\u001b[1;34m(self, labels, axis, index, columns, level, inplace, errors)\u001b[0m\n\u001b[0;32m   5420\u001b[0m \u001b[38;5;28;01mdef\u001b[39;00m \u001b[38;5;21mdrop\u001b[39m(\n\u001b[0;32m   5421\u001b[0m     \u001b[38;5;28mself\u001b[39m,\n\u001b[0;32m   5422\u001b[0m     labels: IndexLabel \u001b[38;5;241m|\u001b[39m \u001b[38;5;28;01mNone\u001b[39;00m \u001b[38;5;241m=\u001b[39m \u001b[38;5;28;01mNone\u001b[39;00m,\n\u001b[1;32m   (...)\u001b[0m\n\u001b[0;32m   5429\u001b[0m     errors: IgnoreRaise \u001b[38;5;241m=\u001b[39m \u001b[38;5;124m\"\u001b[39m\u001b[38;5;124mraise\u001b[39m\u001b[38;5;124m\"\u001b[39m,\n\u001b[0;32m   5430\u001b[0m ) \u001b[38;5;241m-\u001b[39m\u001b[38;5;241m>\u001b[39m DataFrame \u001b[38;5;241m|\u001b[39m \u001b[38;5;28;01mNone\u001b[39;00m:\n\u001b[0;32m   5431\u001b[0m \u001b[38;5;250m    \u001b[39m\u001b[38;5;124;03m\"\"\"\u001b[39;00m\n\u001b[0;32m   5432\u001b[0m \u001b[38;5;124;03m    Drop specified labels from rows or columns.\u001b[39;00m\n\u001b[0;32m   5433\u001b[0m \n\u001b[1;32m   (...)\u001b[0m\n\u001b[0;32m   5566\u001b[0m \u001b[38;5;124;03m            weight  1.0     0.8\u001b[39;00m\n\u001b[0;32m   5567\u001b[0m \u001b[38;5;124;03m    \"\"\"\u001b[39;00m\n\u001b[1;32m-> 5568\u001b[0m     \u001b[38;5;28;01mreturn\u001b[39;00m \u001b[38;5;28;43msuper\u001b[39;49m\u001b[43m(\u001b[49m\u001b[43m)\u001b[49m\u001b[38;5;241;43m.\u001b[39;49m\u001b[43mdrop\u001b[49m\u001b[43m(\u001b[49m\n\u001b[0;32m   5569\u001b[0m \u001b[43m        \u001b[49m\u001b[43mlabels\u001b[49m\u001b[38;5;241;43m=\u001b[39;49m\u001b[43mlabels\u001b[49m\u001b[43m,\u001b[49m\n\u001b[0;32m   5570\u001b[0m \u001b[43m        \u001b[49m\u001b[43maxis\u001b[49m\u001b[38;5;241;43m=\u001b[39;49m\u001b[43maxis\u001b[49m\u001b[43m,\u001b[49m\n\u001b[0;32m   5571\u001b[0m \u001b[43m        \u001b[49m\u001b[43mindex\u001b[49m\u001b[38;5;241;43m=\u001b[39;49m\u001b[43mindex\u001b[49m\u001b[43m,\u001b[49m\n\u001b[0;32m   5572\u001b[0m \u001b[43m        \u001b[49m\u001b[43mcolumns\u001b[49m\u001b[38;5;241;43m=\u001b[39;49m\u001b[43mcolumns\u001b[49m\u001b[43m,\u001b[49m\n\u001b[0;32m   5573\u001b[0m \u001b[43m        \u001b[49m\u001b[43mlevel\u001b[49m\u001b[38;5;241;43m=\u001b[39;49m\u001b[43mlevel\u001b[49m\u001b[43m,\u001b[49m\n\u001b[0;32m   5574\u001b[0m \u001b[43m        \u001b[49m\u001b[43minplace\u001b[49m\u001b[38;5;241;43m=\u001b[39;49m\u001b[43minplace\u001b[49m\u001b[43m,\u001b[49m\n\u001b[0;32m   5575\u001b[0m \u001b[43m        \u001b[49m\u001b[43merrors\u001b[49m\u001b[38;5;241;43m=\u001b[39;49m\u001b[43merrors\u001b[49m\u001b[43m,\u001b[49m\n\u001b[0;32m   5576\u001b[0m \u001b[43m    \u001b[49m\u001b[43m)\u001b[49m\n",
      "File \u001b[1;32m~\\AppData\\Roaming\\Python\\Python312\\site-packages\\pandas\\core\\generic.py:4785\u001b[0m, in \u001b[0;36mNDFrame.drop\u001b[1;34m(self, labels, axis, index, columns, level, inplace, errors)\u001b[0m\n\u001b[0;32m   4783\u001b[0m \u001b[38;5;28;01mfor\u001b[39;00m axis, labels \u001b[38;5;129;01min\u001b[39;00m axes\u001b[38;5;241m.\u001b[39mitems():\n\u001b[0;32m   4784\u001b[0m     \u001b[38;5;28;01mif\u001b[39;00m labels \u001b[38;5;129;01mis\u001b[39;00m \u001b[38;5;129;01mnot\u001b[39;00m \u001b[38;5;28;01mNone\u001b[39;00m:\n\u001b[1;32m-> 4785\u001b[0m         obj \u001b[38;5;241m=\u001b[39m \u001b[43mobj\u001b[49m\u001b[38;5;241;43m.\u001b[39;49m\u001b[43m_drop_axis\u001b[49m\u001b[43m(\u001b[49m\u001b[43mlabels\u001b[49m\u001b[43m,\u001b[49m\u001b[43m \u001b[49m\u001b[43maxis\u001b[49m\u001b[43m,\u001b[49m\u001b[43m \u001b[49m\u001b[43mlevel\u001b[49m\u001b[38;5;241;43m=\u001b[39;49m\u001b[43mlevel\u001b[49m\u001b[43m,\u001b[49m\u001b[43m \u001b[49m\u001b[43merrors\u001b[49m\u001b[38;5;241;43m=\u001b[39;49m\u001b[43merrors\u001b[49m\u001b[43m)\u001b[49m\n\u001b[0;32m   4787\u001b[0m \u001b[38;5;28;01mif\u001b[39;00m inplace:\n\u001b[0;32m   4788\u001b[0m     \u001b[38;5;28mself\u001b[39m\u001b[38;5;241m.\u001b[39m_update_inplace(obj)\n",
      "File \u001b[1;32m~\\AppData\\Roaming\\Python\\Python312\\site-packages\\pandas\\core\\generic.py:4827\u001b[0m, in \u001b[0;36mNDFrame._drop_axis\u001b[1;34m(self, labels, axis, level, errors, only_slice)\u001b[0m\n\u001b[0;32m   4825\u001b[0m         new_axis \u001b[38;5;241m=\u001b[39m axis\u001b[38;5;241m.\u001b[39mdrop(labels, level\u001b[38;5;241m=\u001b[39mlevel, errors\u001b[38;5;241m=\u001b[39merrors)\n\u001b[0;32m   4826\u001b[0m     \u001b[38;5;28;01melse\u001b[39;00m:\n\u001b[1;32m-> 4827\u001b[0m         new_axis \u001b[38;5;241m=\u001b[39m \u001b[43maxis\u001b[49m\u001b[38;5;241;43m.\u001b[39;49m\u001b[43mdrop\u001b[49m\u001b[43m(\u001b[49m\u001b[43mlabels\u001b[49m\u001b[43m,\u001b[49m\u001b[43m \u001b[49m\u001b[43merrors\u001b[49m\u001b[38;5;241;43m=\u001b[39;49m\u001b[43merrors\u001b[49m\u001b[43m)\u001b[49m\n\u001b[0;32m   4828\u001b[0m     indexer \u001b[38;5;241m=\u001b[39m axis\u001b[38;5;241m.\u001b[39mget_indexer(new_axis)\n\u001b[0;32m   4830\u001b[0m \u001b[38;5;66;03m# Case for non-unique axis\u001b[39;00m\n\u001b[0;32m   4831\u001b[0m \u001b[38;5;28;01melse\u001b[39;00m:\n",
      "File \u001b[1;32m~\\AppData\\Roaming\\Python\\Python312\\site-packages\\pandas\\core\\indexes\\base.py:7070\u001b[0m, in \u001b[0;36mIndex.drop\u001b[1;34m(self, labels, errors)\u001b[0m\n\u001b[0;32m   7068\u001b[0m \u001b[38;5;28;01mif\u001b[39;00m mask\u001b[38;5;241m.\u001b[39many():\n\u001b[0;32m   7069\u001b[0m     \u001b[38;5;28;01mif\u001b[39;00m errors \u001b[38;5;241m!=\u001b[39m \u001b[38;5;124m\"\u001b[39m\u001b[38;5;124mignore\u001b[39m\u001b[38;5;124m\"\u001b[39m:\n\u001b[1;32m-> 7070\u001b[0m         \u001b[38;5;28;01mraise\u001b[39;00m \u001b[38;5;167;01mKeyError\u001b[39;00m(\u001b[38;5;124mf\u001b[39m\u001b[38;5;124m\"\u001b[39m\u001b[38;5;132;01m{\u001b[39;00mlabels[mask]\u001b[38;5;241m.\u001b[39mtolist()\u001b[38;5;132;01m}\u001b[39;00m\u001b[38;5;124m not found in axis\u001b[39m\u001b[38;5;124m\"\u001b[39m)\n\u001b[0;32m   7071\u001b[0m     indexer \u001b[38;5;241m=\u001b[39m indexer[\u001b[38;5;241m~\u001b[39mmask]\n\u001b[0;32m   7072\u001b[0m \u001b[38;5;28;01mreturn\u001b[39;00m \u001b[38;5;28mself\u001b[39m\u001b[38;5;241m.\u001b[39mdelete(indexer)\n",
      "\u001b[1;31mKeyError\u001b[0m: \"['Food & Beverages'] not found in axis\""
     ]
    }
   ],
   "source": []
  },
  {
   "cell_type": "code",
   "execution_count": 161,
   "metadata": {},
   "outputs": [
    {
     "data": {
      "text/plain": [
       "aircraft_family\n",
       "Unknown               991\n",
       "Boeing 737 NG         610\n",
       "Boeing 747             10\n",
       "Boeing 738 NG           8\n",
       "Airbus A320             6\n",
       "Airbus A340             2\n",
       "Boeing 737 Classic      2\n",
       "Boeing 737 MAX          1\n",
       "Boeing 737 MAX 8        1\n",
       "Being 737 NG            1\n",
       "Boeing 737 NG,          1\n",
       "Other/Unknown           1\n",
       "Name: count, dtype: int64"
      ]
     },
     "execution_count": 161,
     "metadata": {},
     "output_type": "execute_result"
    }
   ],
   "source": [
    "aircraft_family_counts = ryanair_cleaned['aircraft_family'].value_counts()\n",
    "aircraft_family_counts"
   ]
  },
  {
   "cell_type": "code",
   "execution_count": 162,
   "metadata": {},
   "outputs": [
    {
     "data": {
      "text/html": [
       "<div>\n",
       "<style scoped>\n",
       "    .dataframe tbody tr th:only-of-type {\n",
       "        vertical-align: middle;\n",
       "    }\n",
       "\n",
       "    .dataframe tbody tr th {\n",
       "        vertical-align: top;\n",
       "    }\n",
       "\n",
       "    .dataframe thead th {\n",
       "        text-align: right;\n",
       "    }\n",
       "</style>\n",
       "<table border=\"1\" class=\"dataframe\">\n",
       "  <thead>\n",
       "    <tr style=\"text-align: right;\">\n",
       "      <th></th>\n",
       "      <th>date_published</th>\n",
       "      <th>overall_rating</th>\n",
       "      <th>passenger_country</th>\n",
       "      <th>trip_verified</th>\n",
       "      <th>comment_title</th>\n",
       "      <th>comment</th>\n",
       "      <th>aircraft</th>\n",
       "      <th>type_of_traveller</th>\n",
       "      <th>seat_type</th>\n",
       "      <th>origin</th>\n",
       "      <th>destination</th>\n",
       "      <th>date_flown</th>\n",
       "      <th>seat_comfort</th>\n",
       "      <th>cabin_staff_service</th>\n",
       "      <th>food_&amp;_beverages</th>\n",
       "      <th>ground_service</th>\n",
       "      <th>value_for_money</th>\n",
       "      <th>recommended</th>\n",
       "      <th>aircraft_family</th>\n",
       "    </tr>\n",
       "  </thead>\n",
       "  <tbody>\n",
       "    <tr>\n",
       "      <th>99</th>\n",
       "      <td>2023-04-28</td>\n",
       "      <td>8.0</td>\n",
       "      <td>Netherlands</td>\n",
       "      <td>Trip Verified</td>\n",
       "      <td>\"A pleasant experience\"</td>\n",
       "      <td>A 40 min flight with Lauda operating for Ryana...</td>\n",
       "      <td>A320</td>\n",
       "      <td>Solo Leisure</td>\n",
       "      <td>Economy Class</td>\n",
       "      <td>Vienna</td>\n",
       "      <td>Banja Luka</td>\n",
       "      <td>April 2023</td>\n",
       "      <td>2.0</td>\n",
       "      <td>5.0</td>\n",
       "      <td>5.0</td>\n",
       "      <td>5.0</td>\n",
       "      <td>5.0</td>\n",
       "      <td>yes</td>\n",
       "      <td>Airbus A320</td>\n",
       "    </tr>\n",
       "    <tr>\n",
       "      <th>113</th>\n",
       "      <td>2023-03-25</td>\n",
       "      <td>7.0</td>\n",
       "      <td>Croatia</td>\n",
       "      <td>Trip Verified</td>\n",
       "      <td>\"very good service with lots of smile\"</td>\n",
       "      <td>Return flight ZAG-AGP-ZAG in mid - March 2023....</td>\n",
       "      <td>A320</td>\n",
       "      <td>Solo Leisure</td>\n",
       "      <td>Economy Class</td>\n",
       "      <td>Zagreb</td>\n",
       "      <td>Malaga</td>\n",
       "      <td>March 2023</td>\n",
       "      <td>3.0</td>\n",
       "      <td>5.0</td>\n",
       "      <td>3.0</td>\n",
       "      <td>4.0</td>\n",
       "      <td>5.0</td>\n",
       "      <td>yes</td>\n",
       "      <td>Airbus A320</td>\n",
       "    </tr>\n",
       "    <tr>\n",
       "      <th>261</th>\n",
       "      <td>2022-01-31</td>\n",
       "      <td>1.0</td>\n",
       "      <td>United Kingdom</td>\n",
       "      <td>Trip Verified</td>\n",
       "      <td>\"Departure delayed for 45 minutes\"</td>\n",
       "      <td>Departure delayed for 45 minutes. Flight retur...</td>\n",
       "      <td>A320</td>\n",
       "      <td>Solo Leisure</td>\n",
       "      <td>Economy Class</td>\n",
       "      <td>Stockholm</td>\n",
       "      <td>London</td>\n",
       "      <td>January 2022</td>\n",
       "      <td>2.0</td>\n",
       "      <td>2.0</td>\n",
       "      <td>2.0</td>\n",
       "      <td>1.0</td>\n",
       "      <td>1.0</td>\n",
       "      <td>no</td>\n",
       "      <td>Airbus A320</td>\n",
       "    </tr>\n",
       "    <tr>\n",
       "      <th>699</th>\n",
       "      <td>2019-04-30</td>\n",
       "      <td>1.0</td>\n",
       "      <td>Germany</td>\n",
       "      <td>Trip Verified</td>\n",
       "      <td>\"fraudulent and absolutely unacceptable\"</td>\n",
       "      <td>Together with my wife and my two kids (3 and 1...</td>\n",
       "      <td>A320</td>\n",
       "      <td>Family Leisure</td>\n",
       "      <td>Economy Class</td>\n",
       "      <td>Copenhagen</td>\n",
       "      <td>Stuttgart</td>\n",
       "      <td>April 2019</td>\n",
       "      <td>2.0</td>\n",
       "      <td>3.0</td>\n",
       "      <td>4.0</td>\n",
       "      <td>4.0</td>\n",
       "      <td>4.0</td>\n",
       "      <td>no</td>\n",
       "      <td>Airbus A320</td>\n",
       "    </tr>\n",
       "    <tr>\n",
       "      <th>918</th>\n",
       "      <td>2018-07-13</td>\n",
       "      <td>1.0</td>\n",
       "      <td>United States</td>\n",
       "      <td>Trip Verified</td>\n",
       "      <td>\"very disappointing experience\"</td>\n",
       "      <td>Hamburg to Edinburgh. Unprofessional airline. ...</td>\n",
       "      <td>A319</td>\n",
       "      <td>Couple Leisure</td>\n",
       "      <td>Economy Class</td>\n",
       "      <td>Hamburg</td>\n",
       "      <td>Edinburgh</td>\n",
       "      <td>July 2018</td>\n",
       "      <td>1.0</td>\n",
       "      <td>1.0</td>\n",
       "      <td>1.0</td>\n",
       "      <td>1.0</td>\n",
       "      <td>1.0</td>\n",
       "      <td>no</td>\n",
       "      <td>Airbus A320</td>\n",
       "    </tr>\n",
       "    <tr>\n",
       "      <th>1463</th>\n",
       "      <td>2015-11-03</td>\n",
       "      <td>5.0</td>\n",
       "      <td>United Kingdom</td>\n",
       "      <td>NaN</td>\n",
       "      <td>\"ill mannered Ryanair employee\"</td>\n",
       "      <td>Last night in Barcelona I met the most rude an...</td>\n",
       "      <td>A320</td>\n",
       "      <td>Family Leisure</td>\n",
       "      <td>Economy Class</td>\n",
       "      <td>Barcelona</td>\n",
       "      <td>Dublin</td>\n",
       "      <td>November 2015</td>\n",
       "      <td>4.0</td>\n",
       "      <td>5.0</td>\n",
       "      <td>4.0</td>\n",
       "      <td>1.0</td>\n",
       "      <td>5.0</td>\n",
       "      <td>yes</td>\n",
       "      <td>Airbus A320</td>\n",
       "    </tr>\n",
       "  </tbody>\n",
       "</table>\n",
       "</div>"
      ],
      "text/plain": [
       "     date_published  overall_rating passenger_country  trip_verified  \\\n",
       "99       2023-04-28             8.0       Netherlands  Trip Verified   \n",
       "113      2023-03-25             7.0           Croatia  Trip Verified   \n",
       "261      2022-01-31             1.0    United Kingdom  Trip Verified   \n",
       "699      2019-04-30             1.0           Germany  Trip Verified   \n",
       "918      2018-07-13             1.0     United States  Trip Verified   \n",
       "1463     2015-11-03             5.0    United Kingdom            NaN   \n",
       "\n",
       "                                 comment_title  \\\n",
       "99                    \"A pleasant experience\"    \n",
       "113     \"very good service with lots of smile\"   \n",
       "261         \"Departure delayed for 45 minutes\"   \n",
       "699   \"fraudulent and absolutely unacceptable\"   \n",
       "918            \"very disappointing experience\"   \n",
       "1463           \"ill mannered Ryanair employee\"   \n",
       "\n",
       "                                                comment aircraft  \\\n",
       "99    A 40 min flight with Lauda operating for Ryana...     A320   \n",
       "113   Return flight ZAG-AGP-ZAG in mid - March 2023....     A320   \n",
       "261   Departure delayed for 45 minutes. Flight retur...     A320   \n",
       "699   Together with my wife and my two kids (3 and 1...     A320   \n",
       "918   Hamburg to Edinburgh. Unprofessional airline. ...     A319   \n",
       "1463  Last night in Barcelona I met the most rude an...     A320   \n",
       "\n",
       "     type_of_traveller      seat_type      origin destination     date_flown  \\\n",
       "99        Solo Leisure  Economy Class      Vienna  Banja Luka     April 2023   \n",
       "113       Solo Leisure  Economy Class      Zagreb      Malaga     March 2023   \n",
       "261       Solo Leisure  Economy Class   Stockholm      London   January 2022   \n",
       "699     Family Leisure  Economy Class  Copenhagen   Stuttgart     April 2019   \n",
       "918     Couple Leisure  Economy Class     Hamburg   Edinburgh      July 2018   \n",
       "1463    Family Leisure  Economy Class   Barcelona      Dublin  November 2015   \n",
       "\n",
       "      seat_comfort  cabin_staff_service  food_&_beverages  ground_service  \\\n",
       "99             2.0                  5.0               5.0             5.0   \n",
       "113            3.0                  5.0               3.0             4.0   \n",
       "261            2.0                  2.0               2.0             1.0   \n",
       "699            2.0                  3.0               4.0             4.0   \n",
       "918            1.0                  1.0               1.0             1.0   \n",
       "1463           4.0                  5.0               4.0             1.0   \n",
       "\n",
       "      value_for_money recommended aircraft_family  \n",
       "99                5.0         yes     Airbus A320  \n",
       "113               5.0         yes     Airbus A320  \n",
       "261               1.0          no     Airbus A320  \n",
       "699               4.0          no     Airbus A320  \n",
       "918               1.0          no     Airbus A320  \n",
       "1463              5.0         yes     Airbus A320  "
      ]
     },
     "execution_count": 162,
     "metadata": {},
     "output_type": "execute_result"
    }
   ],
   "source": [
    "rows=ryanair_cleaned[ryanair_cleaned['aircraft_family']=='Airbus A320']\n",
    "rows"
   ]
  },
  {
   "cell_type": "code",
   "execution_count": 164,
   "metadata": {},
   "outputs": [],
   "source": [
    "#Convert 'Date published' to datetime\n",
    "ryanair_cleaned['date_published']=pd.to_datetime(ryanair_cleaned['date_published'])\n",
    "## Convert 'Date Flown' to datetime\n",
    "ryanair_cleaned['date_flown'] = pd.to_datetime(ryanair_cleaned['date_flown'], format='%B %Y')\n",
    "\n"
   ]
  },
  {
   "cell_type": "code",
   "execution_count": 165,
   "metadata": {},
   "outputs": [
    {
     "name": "stdout",
     "output_type": "stream",
     "text": [
      "<class 'pandas.core.frame.DataFrame'>\n",
      "Index: 1634 entries, 0 to 1634\n",
      "Data columns (total 19 columns):\n",
      " #   Column               Non-Null Count  Dtype         \n",
      "---  ------               --------------  -----         \n",
      " 0   date_published       1634 non-null   datetime64[ns]\n",
      " 1   overall_rating       1634 non-null   float64       \n",
      " 2   passenger_country    1634 non-null   object        \n",
      " 3   trip_verified        1305 non-null   object        \n",
      " 4   comment_title        1634 non-null   object        \n",
      " 5   comment              1634 non-null   object        \n",
      " 6   aircraft             551 non-null    object        \n",
      " 7   type_of_traveller    1634 non-null   object        \n",
      " 8   seat_type            1634 non-null   object        \n",
      " 9   origin               1634 non-null   object        \n",
      " 10  destination          1634 non-null   object        \n",
      " 11  date_flown           1631 non-null   datetime64[ns]\n",
      " 12  seat_comfort         1633 non-null   float64       \n",
      " 13  cabin_staff_service  1633 non-null   float64       \n",
      " 14  food_&_beverages     1633 non-null   float64       \n",
      " 15  ground_service       1633 non-null   float64       \n",
      " 16  value_for_money      1633 non-null   float64       \n",
      " 17  recommended          1634 non-null   object        \n",
      " 18  aircraft_family      1634 non-null   object        \n",
      "dtypes: datetime64[ns](2), float64(6), object(11)\n",
      "memory usage: 319.9+ KB\n"
     ]
    }
   ],
   "source": [
    "ryanair_cleaned.info()"
   ]
  },
  {
   "cell_type": "code",
   "execution_count": 166,
   "metadata": {},
   "outputs": [],
   "source": [
    "ryanair_cleaned.to_csv('ryanair_cleaned_dataset.csv', index=False)"
   ]
  }
 ],
 "metadata": {
  "kernelspec": {
   "display_name": "Python 3",
   "language": "python",
   "name": "python3"
  },
  "language_info": {
   "codemirror_mode": {
    "name": "ipython",
    "version": 3
   },
   "file_extension": ".py",
   "mimetype": "text/x-python",
   "name": "python",
   "nbconvert_exporter": "python",
   "pygments_lexer": "ipython3",
   "version": "3.12.0"
  }
 },
 "nbformat": 4,
 "nbformat_minor": 2
}
